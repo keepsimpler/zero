{
 "cells": [
  {
   "cell_type": "code",
   "execution_count": 1,
   "metadata": {
    "collapsed": true
   },
   "outputs": [
    {
     "name": "stderr",
     "output_type": "stream",
     "text": [
      "/home/fengwf/anaconda3/envs/zero/lib/python3.7/site-packages/tensorboard/compat/tensorflow_stub/dtypes.py:541: FutureWarning: Passing (type, 1) or '1type' as a synonym of type is deprecated; in a future version of numpy, it will be understood as (type, (1,)) / '(1,)type'.\n",
      "  _np_qint8 = np.dtype([(\"qint8\", np.int8, 1)])\n",
      "/home/fengwf/anaconda3/envs/zero/lib/python3.7/site-packages/tensorboard/compat/tensorflow_stub/dtypes.py:542: FutureWarning: Passing (type, 1) or '1type' as a synonym of type is deprecated; in a future version of numpy, it will be understood as (type, (1,)) / '(1,)type'.\n",
      "  _np_quint8 = np.dtype([(\"quint8\", np.uint8, 1)])\n",
      "/home/fengwf/anaconda3/envs/zero/lib/python3.7/site-packages/tensorboard/compat/tensorflow_stub/dtypes.py:543: FutureWarning: Passing (type, 1) or '1type' as a synonym of type is deprecated; in a future version of numpy, it will be understood as (type, (1,)) / '(1,)type'.\n",
      "  _np_qint16 = np.dtype([(\"qint16\", np.int16, 1)])\n",
      "/home/fengwf/anaconda3/envs/zero/lib/python3.7/site-packages/tensorboard/compat/tensorflow_stub/dtypes.py:544: FutureWarning: Passing (type, 1) or '1type' as a synonym of type is deprecated; in a future version of numpy, it will be understood as (type, (1,)) / '(1,)type'.\n",
      "  _np_quint16 = np.dtype([(\"quint16\", np.uint16, 1)])\n",
      "/home/fengwf/anaconda3/envs/zero/lib/python3.7/site-packages/tensorboard/compat/tensorflow_stub/dtypes.py:545: FutureWarning: Passing (type, 1) or '1type' as a synonym of type is deprecated; in a future version of numpy, it will be understood as (type, (1,)) / '(1,)type'.\n",
      "  _np_qint32 = np.dtype([(\"qint32\", np.int32, 1)])\n",
      "/home/fengwf/anaconda3/envs/zero/lib/python3.7/site-packages/tensorboard/compat/tensorflow_stub/dtypes.py:550: FutureWarning: Passing (type, 1) or '1type' as a synonym of type is deprecated; in a future version of numpy, it will be understood as (type, (1,)) / '(1,)type'.\n",
      "  np_resource = np.dtype([(\"resource\", np.ubyte, 1)])\n"
     ]
    }
   ],
   "source": [
    "#export\n",
    "from .imports import *\n",
    "from .core import *"
   ]
  },
  {
   "cell_type": "markdown",
   "metadata": {},
   "source": [
    "### Residual Network"
   ]
  },
  {
   "cell_type": "code",
   "execution_count": 2,
   "metadata": {},
   "outputs": [],
   "source": [
    "#export\n",
    "class ResStage(nn.Module):\n",
    "    \"\"\"\n",
    "    Stage in a residual network, usually the units in a residual network are divided into\n",
    "    stages according to feature (image) resolution.\n",
    "    \n",
    "    Parameters:\n",
    "    -----------\n",
    "    ni : number of input channels of the stage, 本stage的入channel数\n",
    "    no : number of output channels of the stage, 本stage的出channel数\n",
    "    nh : number of hidden channels of basic units in the stage, 内部channel数\n",
    "    nu : number of basic units in the stage, unit数\n",
    "    stride : stride size of conv op in First unit\n",
    "    Unit : class of the basic unit, Unit class has calling format:\n",
    "        Unit(ni:int, no:int, nh:int, stride:int=1, **kwargs)\n",
    "    \n",
    "    \"\"\"\n",
    "    def __init__(self, ni:int, no:int, nh:int, nu:int, stride:int, Unit:nn.Module, **kwargs):\n",
    "        super(ResStage, self).__init__()\n",
    "        # the first unit, stride size determine if downsample or not\n",
    "        self.unit0 = Unit(ni, no, nh, stride=stride, **kwargs) \n",
    "        self.idmapping0 = IdentityMapping(ni, no, stride=stride) \n",
    "        units = []\n",
    "        for i in range(nu - 1):\n",
    "            units += [Unit(no, no, nh, stride=1, **kwargs)] #resnet_bottleneck\n",
    "        self.units = nn.ModuleList(units)\n",
    "            \n",
    "    def forward(self, x):\n",
    "        x = self.unit0(x) + self.idmapping0(x)\n",
    "        for i, unit in enumerate(self.units):\n",
    "            x = unit(x) + x\n",
    "        return x\n",
    "        "
   ]
  },
  {
   "cell_type": "code",
   "execution_count": 4,
   "metadata": {},
   "outputs": [],
   "source": [
    "#export\n",
    "def resnet_stem(ni:int=3, nf:int=64):\n",
    "    \"\"\"Stem stage in resnet\n",
    "    \"\"\"\n",
    "    return nn.Sequential(*[*conv_bn_relu(ni, 32, stride=2).children()],  #downsample\n",
    "                         *[*conv_bn_relu(32, 32, stride=1).children()],\n",
    "                         *[*conv_bn_relu(32, nf, stride=1).children()],\n",
    "                         nn.MaxPool2d(kernel_size=3, stride=2, padding=1)  #downsample\n",
    "                        )"
   ]
  },
  {
   "cell_type": "code",
   "execution_count": 5,
   "metadata": {},
   "outputs": [],
   "source": [
    "#export\n",
    "class ResNet(nn.Sequential):\n",
    "    \"\"\"\n",
    "    Residual Network\n",
    "    \n",
    "    Parameters:\n",
    "    -----------\n",
    "    nhs : number of hidden channels for all stages\n",
    "    nos : number of output channels for all stages\n",
    "    nus : number of units of all stages\n",
    "    strides : stride sizes of all stages\n",
    "    Stage : class of the stages, Stage class has calling format:\n",
    "        Stage(ni:int, no:int, nh:int, nu:int, stride:int, Unit:nn.Module, **kwargs)\n",
    "    Unit : class of the basic units\n",
    "    c_in : number of input channels of the whole network\n",
    "    c_out : number of output channels (features) of the whole network\n",
    "    kwargs : additional args to Unit class\n",
    "    \"\"\"\n",
    "    def __init__(self, nhs, nos, nus, strides, Stage:nn.Module, Unit:nn.Module,\n",
    "                 c_in:int=3, c_out:int=1000, **kwargs):\n",
    "        super(ResNet, self).__init__()\n",
    "        stem = resnet_stem(c_in, nhs[0])\n",
    "        stages = []\n",
    "        ni = nhs[0]\n",
    "        for i in range(len(nhs)):\n",
    "            stages += [Stage(ni, nos[i], nhs[i], nus[i], strides[i], Unit, **kwargs)]\n",
    "            ni = nos[i]\n",
    "        classifier = Classifier(nos[-1], c_out)\n",
    "        super().__init__(\n",
    "            stem,\n",
    "            *stages,\n",
    "            classifier\n",
    "        )\n",
    "        init_cnn(self)\n",
    "        \n",
    "        \n",
    "def resnet50(c_in:int=3, c_out:int=1000):\n",
    "    return ResNet(nhs = [64, 128, 256, 512], nos = [256, 512, 1024, 2048],\n",
    "                  nus = [3,4,6,3], strides = [1,2,2,2], Stage = ResStage,\n",
    "                  Unit = resnet_bottleneck,\n",
    "                  c_in=c_in, c_out=c_out)\n",
    "\n",
    "def resnet101(c_in:int=3, c_out:int=1000):\n",
    "    return ResNet(nhs = [64, 128, 256, 512], nos = [256, 512, 1024, 2048],\n",
    "                  nus = [3,4,23,3], strides = [1,2,2,2], Stage = ResStage, \n",
    "                  Unit = resnet_bottleneck,\n",
    "                  c_in=c_in, c_out=c_out)"
   ]
  },
  {
   "cell_type": "code",
   "execution_count": 6,
   "metadata": {},
   "outputs": [],
   "source": [
    "model = resnet50()"
   ]
  },
  {
   "cell_type": "code",
   "execution_count": 7,
   "metadata": {},
   "outputs": [
    {
     "data": {
      "text/plain": [
       "tensor(25576264)"
      ]
     },
     "execution_count": 7,
     "metadata": {},
     "output_type": "execute_result"
    }
   ],
   "source": [
    "num_params(model)"
   ]
  },
  {
   "cell_type": "markdown",
   "metadata": {},
   "source": [
    "### our folded stage classes"
   ]
  },
  {
   "cell_type": "code",
   "execution_count": 10,
   "metadata": {},
   "outputs": [],
   "source": [
    "#export\n",
    "class DualStage(nn.Module):\n",
    "    def __init__(self, ni:int, no:int, nh:int, nu:int, stride:int, Unit:nn.Module, **kwargs):\n",
    "        assert nu >= 2\n",
    "        super(DualStage, self).__init__()\n",
    "        # the first unit, stride size determine if downsample or not\n",
    "        self.unit0 = Unit(ni, no, nh, stride=stride, **kwargs) \n",
    "        self.idmapping0 = IdentityMapping(ni, no, stride=stride) \n",
    "        self.unit1 = Unit(no, no, nh, stride=1, **kwargs) \n",
    "        units = []\n",
    "        for i in range(nu - 2):\n",
    "            units += [Unit(no, no, nh, stride=1, **kwargs)] #resnet_bottleneck\n",
    "        self.units = nn.ModuleList(units)\n",
    "            \n",
    "    def forward(self, x):\n",
    "        x1 = self.unit0(x) + self.idmapping0(x)\n",
    "        x2 = self.unit1(x1) + x1\n",
    "        for i, unit in enumerate(self.units):\n",
    "            if i//2 == 0:\n",
    "                x1 = unit(x2) + x1\n",
    "            elif i//2 == 1:\n",
    "                x2 = unit(x1) + x2\n",
    "        return x2 if i//2 == 1 else x1\n",
    "            "
   ]
  },
  {
   "cell_type": "code",
   "execution_count": 19,
   "metadata": {},
   "outputs": [],
   "source": [
    "#export\n",
    "class TripleStage(nn.Module):\n",
    "    \"\"\"\n",
    "    Stage in a residual network, usually the units in a residual network are divided into\n",
    "    stages according to feature (image) resolution.\n",
    "    \n",
    "    Parameters:\n",
    "    -----------\n",
    "    ni : number of input channels of the stage, 本stage的入channel数\n",
    "    no : number of output channels of the stage, 本stage的出channel数\n",
    "    nh : number of hidden channels of basic units in the stage, 内部channel数\n",
    "    nu : number of basic units in the stage, unit数\n",
    "    stride : stride size of conv op in First unit\n",
    "    Unit : class of the basic unit, Unit class has calling format:\n",
    "        Unit(ni:int, no:int, nh:int, stride:int=1, **kwargs)\n",
    "    \n",
    "    \"\"\"\n",
    "    def __init__(self, ni:int, no:int, nh:int, nu:int, stride:int, Unit:nn.Module, **kwargs):\n",
    "        assert nu >= 4\n",
    "        super(TripleStage, self).__init__()\n",
    "        # the first unit, stride size determine if downsample or not\n",
    "        self.unit0 = Unit(ni, no, nh, stride=stride, **kwargs) \n",
    "        self.idmapping0 = IdentityMapping(ni, no, stride=stride) \n",
    "        self.unit1 = Unit(no, no, nh, stride=1, **kwargs) \n",
    "        self.unit2 = Unit(no, no, nh, stride=1, **kwargs) \n",
    "        units = []\n",
    "        for i in range(nu - 3):\n",
    "            units += [Unit(no, no, nh, stride=1, **kwargs)] #resnet_bottleneck\n",
    "        self.units = nn.ModuleList(units)\n",
    "            \n",
    "    def forward(self, x):\n",
    "        x1 = self.unit0(x) + self.idmapping0(x)\n",
    "        x2 = self.unit1(x1) + x1\n",
    "        x3 = self.unit2(x2) + x2\n",
    "        for i, unit in enumerate(self.units):\n",
    "            if i//4 == 0:\n",
    "                x2 = unit(x3) + x2\n",
    "            elif i//4 == 1:\n",
    "                x1 = unit(x2) + x1\n",
    "            elif i//4 == 2:\n",
    "                x2 = unit(x2) + x2\n",
    "            elif i//4 == 3:\n",
    "                x3 = unit(x2) + x3\n",
    "        return x2 if i//4 == 0 else x1 if i//4 == 1 else x2 if i//4 == 2 else x3 #if i//4 == 3\n",
    "        "
   ]
  },
  {
   "cell_type": "code",
   "execution_count": 20,
   "metadata": {},
   "outputs": [],
   "source": [
    "#export\n",
    "class QuadStage(nn.Module):\n",
    "    \"\"\"\n",
    "    Stage in a residual network, usually the units in a residual network are divided into\n",
    "    stages according to feature (image) resolution.\n",
    "    \n",
    "    Parameters:\n",
    "    -----------\n",
    "    ni : number of input channels of the stage, 本stage的入channel数\n",
    "    no : number of output channels of the stage, 本stage的出channel数\n",
    "    nh : number of hidden channels of basic units in the stage, 内部channel数\n",
    "    nu : number of basic units in the stage, unit数\n",
    "    stride : stride size of conv op in First unit\n",
    "    Unit : class of the basic unit, Unit class has calling format:\n",
    "        Unit(ni:int, no:int, nh:int, stride:int=1, **kwargs)\n",
    "    \n",
    "    \"\"\"\n",
    "    def __init__(self, ni:int, no:int, nh:int, nu:int, stride:int, Unit:nn.Module, **kwargs):\n",
    "        assert nu >= 5\n",
    "        super(QuadStage, self).__init__()\n",
    "        # the first unit, stride size determine if downsample or not\n",
    "        self.unit0 = Unit(ni, no, nh, stride=stride, **kwargs) \n",
    "        self.idmapping0 = IdentityMapping(ni, no, stride=stride) \n",
    "        self.unit1 = Unit(no, no, nh, stride=1, **kwargs) \n",
    "        self.unit2 = Unit(no, no, nh, stride=1, **kwargs) \n",
    "        self.unit3 = Unit(no, no, nh, stride=1, **kwargs) \n",
    "        units = []\n",
    "        for i in range(nu - 4):\n",
    "            units += [Unit(no, no, nh, stride=1, **kwargs)] #resnet_bottleneck\n",
    "        self.units = nn.ModuleList(units)\n",
    "            \n",
    "    def forward(self, x):\n",
    "        x1 = self.unit0(x) + self.idmapping0(x)\n",
    "        x2 = self.unit1(x1) + x1\n",
    "        x3 = self.unit2(x2) + x2\n",
    "        x4 = self.unit3(x3) + x3\n",
    "        for i, unit in enumerate(self.units):\n",
    "            if i // 6 == 0:\n",
    "                x3 = unit(x4) + x3\n",
    "            elif i // 6 == 1:\n",
    "                x2 = unit(x3) + x2\n",
    "            elif i // 6 == 2:\n",
    "                x1 = unit(x2) + x1\n",
    "            elif i // 6 == 3:\n",
    "                x2 = unit(x1) + x2\n",
    "            elif i // 6 == 4:\n",
    "                x3 = unit(x2) + x3\n",
    "            elif i // 6 == 5:\n",
    "                x4 = unit(x3) + x4\n",
    "        return x3 if i//6 == 0 or i//6 ==4 else x2 if i//6 == 1 or i//6 == 3 else x1 if i//6 == 2 else x4 # if i//6 == 5        "
   ]
  },
  {
   "cell_type": "code",
   "execution_count": 21,
   "metadata": {},
   "outputs": [],
   "source": [
    "#export\n",
    "class FiveStage(nn.Module):\n",
    "    \"\"\"\n",
    "    Stage in a residual network, usually the units in a residual network are divided into\n",
    "    stages according to feature (image) resolution.\n",
    "    \n",
    "    Parameters:\n",
    "    -----------\n",
    "    ni : number of input channels of the stage, 本stage的入channel数\n",
    "    no : number of output channels of the stage, 本stage的出channel数\n",
    "    nh : number of hidden channels of basic units in the stage, 内部channel数\n",
    "    nu : number of basic units in the stage, unit数\n",
    "    stride : stride size of conv op in First unit\n",
    "    Unit : class of the basic unit, Unit class has calling format:\n",
    "        Unit(ni:int, no:int, nh:int, stride:int=1, **kwargs)\n",
    "    \n",
    "    \"\"\"\n",
    "    def __init__(self, ni:int, no:int, nh:int, nu:int, stride:int, Unit:nn.Module, **kwargs):\n",
    "        assert nu >= 6\n",
    "        super(FiveStage, self).__init__()\n",
    "        # the first unit, stride size determine if downsample or not\n",
    "        self.unit0 = Unit(ni, no, nh, stride=stride, **kwargs) \n",
    "        self.idmapping0 = IdentityMapping(ni, no, stride=stride) \n",
    "        self.unit1 = Unit(no, no, nh, stride=1, **kwargs) \n",
    "        self.unit2 = Unit(no, no, nh, stride=1, **kwargs) \n",
    "        self.unit3 = Unit(no, no, nh, stride=1, **kwargs) \n",
    "        self.unit4 = Unit(no, no, nh, stride=1, **kwargs) \n",
    "        units = []\n",
    "        for i in range(nu - 5):\n",
    "            units += [Unit(no, no, nh, stride=1, **kwargs)] #resnet_bottleneck\n",
    "        self.units = nn.ModuleList(units)\n",
    "            \n",
    "    def forward(self, x):\n",
    "        x1 = self.unit0(x) + self.idmapping0(x)\n",
    "        x2 = self.unit1(x1) + x1\n",
    "        x3 = self.unit2(x2) + x2\n",
    "        x4 = self.unit3(x3) + x3\n",
    "        x5 = self.unit4(x4) + x4\n",
    "        for i, unit in enumerate(self.units):\n",
    "            if i // 8 == 0:\n",
    "                x4 = unit(x5) + x4\n",
    "            elif i // 8 == 1:\n",
    "                x3 = unit(x4) + x3\n",
    "            elif i // 8 == 2:\n",
    "                x2 = unit(x3) + x2\n",
    "            elif i // 8 == 3:\n",
    "                x1 = unit(x2) + x1\n",
    "            elif i // 8 == 4:\n",
    "                x2 = unit(x1) + x2\n",
    "            elif i // 8 == 5:\n",
    "                x3 = unit(x2) + x3\n",
    "            elif i // 8 == 6:\n",
    "                x4 = unit(x3) + x4\n",
    "            elif i // 8 == 7:\n",
    "                x5 = unit(x4) + x5\n",
    "        return x4 if i//8 == 0 or i//8 == 6 else x3 if i//8 == 1 or i//8 == 5 else x2 if i//8 == 2 or i//8 == 4 else x1 if i//8 == 3 else x5 # if i//8 == 7"
   ]
  },
  {
   "cell_type": "code",
   "execution_count": 37,
   "metadata": {},
   "outputs": [],
   "source": [
    "#export\n",
    "def folded_resnet50(Stage, Unit, ni:int=32, exp:int=4, c_in:int=3, c_out:int=1000):\n",
    "    nhs = [ni] + [2*ni] + [4*ni] + [8*ni]\n",
    "    nos = [nh*exp for nh in nhs]\n",
    "    return ResNet(nhs = nhs, nos = nos,\n",
    "                  nus = [3*4,4*4,6*4,3*4], strides = [1,2,2,2], Stage = Stage,\n",
    "                  Unit = Unit,\n",
    "                  c_in=c_in, c_out=c_out)\n"
   ]
  },
  {
   "cell_type": "code",
   "execution_count": 38,
   "metadata": {},
   "outputs": [],
   "source": [
    "model = folded_resnet50(FiveStage, resnet_bottleneck)"
   ]
  },
  {
   "cell_type": "code",
   "execution_count": 39,
   "metadata": {},
   "outputs": [
    {
     "data": {
      "text/plain": [
       "tensor(23033096)"
      ]
     },
     "execution_count": 39,
     "metadata": {},
     "output_type": "execute_result"
    }
   ],
   "source": [
    "num_params(model)"
   ]
  },
  {
   "cell_type": "code",
   "execution_count": 35,
   "metadata": {},
   "outputs": [],
   "source": [
    "x = torch.randn(2,3,128,128)"
   ]
  },
  {
   "cell_type": "code",
   "execution_count": 36,
   "metadata": {},
   "outputs": [],
   "source": [
    "with torch.autograd.set_detect_anomaly(True):\n",
    "    out = model(x)\n",
    "    out.mean().backward()"
   ]
  },
  {
   "cell_type": "markdown",
   "metadata": {},
   "source": [
    "### Export: Before Export, First Remove `zero` in `from zero.bla import *`"
   ]
  },
  {
   "cell_type": "code",
   "execution_count": 40,
   "metadata": {},
   "outputs": [
    {
     "name": "stdout",
     "output_type": "stream",
     "text": [
      "Converted resnet.ipynb to zero/resnet.py\r\n"
     ]
    }
   ],
   "source": [
    "!python notebook2script.py resnet.ipynb"
   ]
  },
  {
   "cell_type": "code",
   "execution_count": null,
   "metadata": {},
   "outputs": [],
   "source": []
  },
  {
   "cell_type": "code",
   "execution_count": null,
   "metadata": {},
   "outputs": [],
   "source": []
  }
 ],
 "metadata": {
  "kernelspec": {
   "display_name": "Python 3",
   "language": "python",
   "name": "python3"
  },
  "language_info": {
   "codemirror_mode": {
    "name": "ipython",
    "version": 3
   },
   "file_extension": ".py",
   "mimetype": "text/x-python",
   "name": "python",
   "nbconvert_exporter": "python",
   "pygments_lexer": "ipython3",
   "version": "3.7.4"
  }
 },
 "nbformat": 4,
 "nbformat_minor": 2
}

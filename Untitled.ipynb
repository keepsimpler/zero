{
 "cells": [
  {
   "cell_type": "code",
   "execution_count": null,
   "metadata": {
    "collapsed": true
   },
   "outputs": [],
   "source": [
    "一个深度学习项目的目录结构：\n",
    "    data_loader.py    以batch为单位可遍历的数据\n",
    "    net.py            深度学习的网络模型、误差函数、测量函数\n",
    "    train.py          训练一个epoch的训练数据\n",
    "    evaluate.py       评估一个epoch的评估数据\n",
    "    train_and_evaluate.py  训练并评估数据，记录日志\n",
    "    train_main.py     "
   ]
  },
  {
   "cell_type": "markdown",
   "metadata": {},
   "source": [
    "## Data Explore"
   ]
  },
  {
   "cell_type": "code",
   "execution_count": 3,
   "metadata": {
    "collapsed": true
   },
   "outputs": [],
   "source": [
    "from data_loader import fetch_dataloader\n",
    "import utils"
   ]
  },
  {
   "cell_type": "code",
   "execution_count": 6,
   "metadata": {},
   "outputs": [
    {
     "name": "stdout",
     "output_type": "stream",
     "text": [
      "Downloading http://yann.lecun.com/exdb/mnist/train-images-idx3-ubyte.gz\n",
      "Downloading http://yann.lecun.com/exdb/mnist/train-labels-idx1-ubyte.gz\n",
      "Downloading http://yann.lecun.com/exdb/mnist/t10k-images-idx3-ubyte.gz\n",
      "Downloading http://yann.lecun.com/exdb/mnist/t10k-labels-idx1-ubyte.gz\n",
      "Processing...\n",
      "Done!\n"
     ]
    }
   ],
   "source": [
    "types = ['train', 'val']\n",
    "data_dir = 'data/MNIST'\n",
    "\n",
    "json_path = 'params.json'\n",
    "params = utils.Params(json_path)\n",
    "\n",
    "dataloaders = fetch_dataloader(types, data_dir, params)\n",
    "\n",
    "train_dl = dataloaders['train']\n",
    "val_dl = dataloaders['val']\n"
   ]
  },
  {
   "cell_type": "code",
   "execution_count": 7,
   "metadata": {},
   "outputs": [
    {
     "name": "stdout",
     "output_type": "stream",
     "text": [
      "训练数据一个mini－batch数据的维度：［mini－batch大小，inChannel，Height，Width torch.Size([64, 784]) ；和其分类： tensor([ 0,  1,  6,  1,  5,  1,  2,  3,  3,  9,  3,  7,  6,  7,\n",
      "         3,  1,  9,  3,  6,  5,  4,  4,  8,  4,  8,  2,  4,  5,\n",
      "         3,  4,  6,  6,  5,  8,  5,  8,  5,  3,  6,  1,  5,  1,\n",
      "         1,  0,  4,  3,  0,  0,  4,  0,  3,  0,  0,  4,  4,  0,\n",
      "         4,  6,  9,  5,  3,  6,  1,  6])\n"
     ]
    }
   ],
   "source": [
    "for data, target in train_dl:\n",
    "    print('训练数据一个mini－batch数据的维度：［mini－batch大小，inChannel，Height，Width', \n",
    "          data.size(), '；和其分类：',target)\n",
    "    break"
   ]
  },
  {
   "cell_type": "code",
   "execution_count": null,
   "metadata": {
    "collapsed": true
   },
   "outputs": [],
   "source": []
  }
 ],
 "metadata": {
  "kernelspec": {
   "display_name": "Python 3",
   "language": "python",
   "name": "python3"
  },
  "language_info": {
   "codemirror_mode": {
    "name": "ipython",
    "version": 3
   },
   "file_extension": ".py",
   "mimetype": "text/x-python",
   "name": "python",
   "nbconvert_exporter": "python",
   "pygments_lexer": "ipython3",
   "version": "3.6.4"
  }
 },
 "nbformat": 4,
 "nbformat_minor": 2
}

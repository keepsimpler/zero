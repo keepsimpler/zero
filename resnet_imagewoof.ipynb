{
 "cells": [
  {
   "cell_type": "code",
   "execution_count": 1,
   "metadata": {
    "_cell_guid": "b1076dfc-b9ad-4769-8c92-a6c4dae69d19",
    "_uuid": "8f2839f25d086af736a60e9eeb907d3b93b6e0e5",
    "collapsed": true
   },
   "outputs": [
    {
     "name": "stdout",
     "output_type": "stream",
     "text": [
      "Collecting git+https://github.com/keepsimpler/zero\n",
      "  Cloning https://github.com/keepsimpler/zero to /tmp/pip-req-build-qxuvkgji\n",
      "  Running command git clone -q https://github.com/keepsimpler/zero /tmp/pip-req-build-qxuvkgji\n",
      "Requirement already satisfied: torch in /opt/conda/lib/python3.6/site-packages (from zero==0.1.0) (1.2.0)\n",
      "Collecting pytorch-lightning (from zero==0.1.0)\n",
      "\u001b[?25l  Downloading https://files.pythonhosted.org/packages/7f/8d/ce296589f61ad8f1014e0aa4b8a66d7623f7ddca779cb7941fdfd8848fd9/pytorch-lightning-0.5.2.1.tar.gz (56kB)\n",
      "\u001b[K     |████████████████████████████████| 61kB 2.8MB/s eta 0:00:011\n",
      "\u001b[?25hRequirement already satisfied: fastai in /opt/conda/lib/python3.6/site-packages (from zero==0.1.0) (1.0.57)\n",
      "Requirement already satisfied: networkx in /opt/conda/lib/python3.6/site-packages (from zero==0.1.0) (2.3)\n",
      "Requirement already satisfied: numpy in /opt/conda/lib/python3.6/site-packages (from torch->zero==0.1.0) (1.16.4)\n",
      "Requirement already satisfied: tqdm>=4.35.0 in /opt/conda/lib/python3.6/site-packages (from pytorch-lightning->zero==0.1.0) (4.36.1)\n",
      "Collecting test-tube>=0.6.9 (from pytorch-lightning->zero==0.1.0)\n",
      "  Downloading https://files.pythonhosted.org/packages/93/1e/faa8ff4e6668c4270359f5c6246d1f479e585facb3aa3db8684abfed57d7/test_tube-0.7.1.tar.gz\n",
      "Requirement already satisfied: pandas>=0.20.3 in /opt/conda/lib/python3.6/site-packages (from pytorch-lightning->zero==0.1.0) (0.25.1)\n",
      "Requirement already satisfied: fastprogress>=0.1.19 in /opt/conda/lib/python3.6/site-packages (from fastai->zero==0.1.0) (0.1.21)\n",
      "Requirement already satisfied: bottleneck in /opt/conda/lib/python3.6/site-packages (from fastai->zero==0.1.0) (1.2.1)\n",
      "Requirement already satisfied: spacy>=2.0.18 in /opt/conda/lib/python3.6/site-packages (from fastai->zero==0.1.0) (2.1.8)\n",
      "Requirement already satisfied: nvidia-ml-py3 in /opt/conda/lib/python3.6/site-packages (from fastai->zero==0.1.0) (7.352.0)\n",
      "Requirement already satisfied: matplotlib in /opt/conda/lib/python3.6/site-packages (from fastai->zero==0.1.0) (3.0.3)\n",
      "Requirement already satisfied: torchvision in /opt/conda/lib/python3.6/site-packages (from fastai->zero==0.1.0) (0.4.0a0+6b959ee)\n",
      "Requirement already satisfied: scipy in /opt/conda/lib/python3.6/site-packages (from fastai->zero==0.1.0) (1.2.1)\n",
      "Requirement already satisfied: requests in /opt/conda/lib/python3.6/site-packages (from fastai->zero==0.1.0) (2.22.0)\n",
      "Requirement already satisfied: packaging in /opt/conda/lib/python3.6/site-packages (from fastai->zero==0.1.0) (19.2)\n",
      "Requirement already satisfied: Pillow in /opt/conda/lib/python3.6/site-packages (from fastai->zero==0.1.0) (5.4.1)\n",
      "Requirement already satisfied: dataclasses; python_version < \"3.7\" in /opt/conda/lib/python3.6/site-packages (from fastai->zero==0.1.0) (0.6)\n",
      "Requirement already satisfied: pyyaml in /opt/conda/lib/python3.6/site-packages (from fastai->zero==0.1.0) (5.1.2)\n",
      "Requirement already satisfied: beautifulsoup4 in /opt/conda/lib/python3.6/site-packages (from fastai->zero==0.1.0) (4.8.0)\n",
      "Requirement already satisfied: typing; python_version < \"3.7\" in /opt/conda/lib/python3.6/site-packages (from fastai->zero==0.1.0) (3.6.6)\n",
      "Requirement already satisfied: numexpr in /opt/conda/lib/python3.6/site-packages (from fastai->zero==0.1.0) (2.6.9)\n",
      "Requirement already satisfied: decorator>=4.3.0 in /opt/conda/lib/python3.6/site-packages (from networkx->zero==0.1.0) (4.4.0)\n",
      "Requirement already satisfied: imageio>=2.3.0 in /opt/conda/lib/python3.6/site-packages (from test-tube>=0.6.9->pytorch-lightning->zero==0.1.0) (2.5.0)\n",
      "Collecting tb-nightly==1.15.0a20190708 (from test-tube>=0.6.9->pytorch-lightning->zero==0.1.0)\n",
      "\u001b[?25l  Downloading https://files.pythonhosted.org/packages/b1/98/fa38deb0d26db3c88fc3c3267c622508648df9d67242d8a4d15c2f6bab08/tb_nightly-1.15.0a20190708-py3-none-any.whl (3.9MB)\n",
      "\u001b[K     |████████████████████████████████| 3.9MB 9.9MB/s eta 0:00:01\n",
      "\u001b[?25hRequirement already satisfied: future in /opt/conda/lib/python3.6/site-packages (from test-tube>=0.6.9->pytorch-lightning->zero==0.1.0) (0.17.1)\n",
      "Requirement already satisfied: python-dateutil>=2.6.1 in /opt/conda/lib/python3.6/site-packages (from pandas>=0.20.3->pytorch-lightning->zero==0.1.0) (2.8.0)\n",
      "Requirement already satisfied: pytz>=2017.2 in /opt/conda/lib/python3.6/site-packages (from pandas>=0.20.3->pytorch-lightning->zero==0.1.0) (2019.2)\n",
      "Requirement already satisfied: wasabi<1.1.0,>=0.2.0 in /opt/conda/lib/python3.6/site-packages (from spacy>=2.0.18->fastai->zero==0.1.0) (0.2.2)\n",
      "Requirement already satisfied: blis<0.3.0,>=0.2.2 in /opt/conda/lib/python3.6/site-packages (from spacy>=2.0.18->fastai->zero==0.1.0) (0.2.4)\n",
      "Requirement already satisfied: murmurhash<1.1.0,>=0.28.0 in /opt/conda/lib/python3.6/site-packages (from spacy>=2.0.18->fastai->zero==0.1.0) (1.0.2)\n",
      "Requirement already satisfied: thinc<7.1.0,>=7.0.8 in /opt/conda/lib/python3.6/site-packages (from spacy>=2.0.18->fastai->zero==0.1.0) (7.0.8)\n",
      "Requirement already satisfied: plac<1.0.0,>=0.9.6 in /opt/conda/lib/python3.6/site-packages (from spacy>=2.0.18->fastai->zero==0.1.0) (0.9.6)\n",
      "Requirement already satisfied: srsly<1.1.0,>=0.0.6 in /opt/conda/lib/python3.6/site-packages (from spacy>=2.0.18->fastai->zero==0.1.0) (0.1.0)\n",
      "Requirement already satisfied: cymem<2.1.0,>=2.0.2 in /opt/conda/lib/python3.6/site-packages (from spacy>=2.0.18->fastai->zero==0.1.0) (2.0.2)\n",
      "Requirement already satisfied: preshed<2.1.0,>=2.0.1 in /opt/conda/lib/python3.6/site-packages (from spacy>=2.0.18->fastai->zero==0.1.0) (2.0.1)\n",
      "Requirement already satisfied: cycler>=0.10 in /opt/conda/lib/python3.6/site-packages (from matplotlib->fastai->zero==0.1.0) (0.10.0)\n",
      "Requirement already satisfied: kiwisolver>=1.0.1 in /opt/conda/lib/python3.6/site-packages (from matplotlib->fastai->zero==0.1.0) (1.1.0)\n",
      "Requirement already satisfied: pyparsing!=2.0.4,!=2.1.2,!=2.1.6,>=2.0.1 in /opt/conda/lib/python3.6/site-packages (from matplotlib->fastai->zero==0.1.0) (2.4.2)\n",
      "Requirement already satisfied: six in /opt/conda/lib/python3.6/site-packages (from torchvision->fastai->zero==0.1.0) (1.12.0)\n",
      "Requirement already satisfied: certifi>=2017.4.17 in /opt/conda/lib/python3.6/site-packages (from requests->fastai->zero==0.1.0) (2019.9.11)\n",
      "Requirement already satisfied: urllib3!=1.25.0,!=1.25.1,<1.26,>=1.21.1 in /opt/conda/lib/python3.6/site-packages (from requests->fastai->zero==0.1.0) (1.24.2)\n",
      "Requirement already satisfied: idna<2.9,>=2.5 in /opt/conda/lib/python3.6/site-packages (from requests->fastai->zero==0.1.0) (2.8)\n",
      "Requirement already satisfied: chardet<3.1.0,>=3.0.2 in /opt/conda/lib/python3.6/site-packages (from requests->fastai->zero==0.1.0) (3.0.4)\n",
      "Requirement already satisfied: soupsieve>=1.2 in /opt/conda/lib/python3.6/site-packages (from beautifulsoup4->fastai->zero==0.1.0) (1.9.3)\n",
      "Requirement already satisfied: protobuf>=3.6.0 in /opt/conda/lib/python3.6/site-packages (from tb-nightly==1.15.0a20190708->test-tube>=0.6.9->pytorch-lightning->zero==0.1.0) (3.7.1)\n",
      "Requirement already satisfied: absl-py>=0.4 in /opt/conda/lib/python3.6/site-packages (from tb-nightly==1.15.0a20190708->test-tube>=0.6.9->pytorch-lightning->zero==0.1.0) (0.8.0)\n",
      "Requirement already satisfied: setuptools>=41.0.0 in /opt/conda/lib/python3.6/site-packages (from tb-nightly==1.15.0a20190708->test-tube>=0.6.9->pytorch-lightning->zero==0.1.0) (41.2.0)\n",
      "Requirement already satisfied: grpcio>=1.6.3 in /opt/conda/lib/python3.6/site-packages (from tb-nightly==1.15.0a20190708->test-tube>=0.6.9->pytorch-lightning->zero==0.1.0) (1.24.0)\n",
      "Requirement already satisfied: markdown>=2.6.8 in /opt/conda/lib/python3.6/site-packages (from tb-nightly==1.15.0a20190708->test-tube>=0.6.9->pytorch-lightning->zero==0.1.0) (3.1.1)\n",
      "Requirement already satisfied: wheel>=0.26; python_version >= \"3\" in /opt/conda/lib/python3.6/site-packages (from tb-nightly==1.15.0a20190708->test-tube>=0.6.9->pytorch-lightning->zero==0.1.0) (0.33.6)\n",
      "Requirement already satisfied: werkzeug>=0.11.15 in /opt/conda/lib/python3.6/site-packages (from tb-nightly==1.15.0a20190708->test-tube>=0.6.9->pytorch-lightning->zero==0.1.0) (0.16.0)\n",
      "Building wheels for collected packages: zero, pytorch-lightning, test-tube\n",
      "  Building wheel for zero (setup.py) ... \u001b[?25ldone\n",
      "\u001b[?25h  Created wheel for zero: filename=zero-0.1.0-cp36-none-any.whl size=8912 sha256=26e9601ec4c55952a564171fdec22511d7761dd26ffd998240265b2dc6495c7f\n",
      "  Stored in directory: /tmp/pip-ephem-wheel-cache-iad8d2qf/wheels/f9/0b/48/e2af05e00e92a97baf3de19591f11460fb05f80592f583da00\n"
     ]
    },
    {
     "name": "stdout",
     "output_type": "stream",
     "text": [
      "  Building wheel for pytorch-lightning (setup.py) ... \u001b[?25ldone\n",
      "\u001b[?25h  Created wheel for pytorch-lightning: filename=pytorch_lightning-0.5.2.1-cp36-none-any.whl size=62478 sha256=31cab77be42555f2bf1aac14c70c2cbbee52460d2359f95b8a22c248fd1af6d4\n",
      "  Stored in directory: /tmp/.cache/pip/wheels/20/49/24/fff73c46de9d31273c826560c191c3b1c9f7a8696e11fd0739\n",
      "  Building wheel for test-tube (setup.py) ... \u001b[?25ldone\n",
      "\u001b[?25h  Created wheel for test-tube: filename=test_tube-0.7.1-cp36-none-any.whl size=22614 sha256=48d28bd8772b8290914e4118cd40d90b3531462c2e6a3bcda7d38928dc4dcc18\n",
      "  Stored in directory: /tmp/.cache/pip/wheels/4a/f1/20/a57e7fe148c936a784473ceff49e01f6570746e617fdf8202f\n",
      "Successfully built zero pytorch-lightning test-tube\n",
      "Installing collected packages: tb-nightly, test-tube, pytorch-lightning, zero\n",
      "Successfully installed pytorch-lightning-0.5.2.1 tb-nightly-1.15.0a20190708 test-tube-0.7.1 zero-0.1.0\n"
     ]
    }
   ],
   "source": [
    "!pip install git+https://github.com/keepsimpler/zero"
   ]
  },
  {
   "cell_type": "code",
   "execution_count": 2,
   "metadata": {
    "_cell_guid": "79c7e3d0-c299-4dcb-8224-4455121ee9b0",
    "_uuid": "d629ff2d2480ee46fbb7e2d37f6b5fab8052498a"
   },
   "outputs": [],
   "source": [
    "from zero import *"
   ]
  },
  {
   "cell_type": "code",
   "execution_count": 3,
   "metadata": {},
   "outputs": [],
   "source": [
    "def get_data(size, woof, bs, workers=None):\n",
    "    if   size<=128: path = URLs.IMAGEWOOF_160 if woof else URLs.IMAGENETTE_160\n",
    "    elif size<=224: path = URLs.IMAGEWOOF_320 if woof else URLs.IMAGENETTE_320\n",
    "    else          : path = URLs.IMAGEWOOF     if woof else URLs.IMAGENETTE\n",
    "    path = untar_data(path)\n",
    "\n",
    "    n_gpus = num_distrib() or 1\n",
    "    if workers is None: workers = min(8, num_cpus()//n_gpus)\n",
    "\n",
    "    return (ImageList.from_folder(path).split_by_folder(valid='val')\n",
    "            .label_from_folder().transform(([flip_lr(p=0.5)], []), size=size)\n",
    "            .databunch(bs=bs, num_workers=workers)\n",
    "            .presize(size, scale=(0.35,1))\n",
    "            .normalize(imagenet_stats))"
   ]
  },
  {
   "cell_type": "code",
   "execution_count": 4,
   "metadata": {},
   "outputs": [],
   "source": [
    "data = get_data(size=128, woof=True, bs=64)"
   ]
  },
  {
   "cell_type": "code",
   "execution_count": 25,
   "metadata": {},
   "outputs": [],
   "source": [
    "model = folded_resnet(Stem = conv_bn, Stage = ResStage, Unit = xception, ni=64,\n",
    "                      num_stages=5, num_units=10, exp=1, first_downsample=False)"
   ]
  },
  {
   "cell_type": "code",
   "execution_count": 26,
   "metadata": {},
   "outputs": [
    {
     "data": {
      "text/plain": [
       "tensor(22018346)"
      ]
     },
     "execution_count": 26,
     "metadata": {},
     "output_type": "execute_result"
    }
   ],
   "source": [
    "num_params(model)"
   ]
  },
  {
   "cell_type": "code",
   "execution_count": 27,
   "metadata": {},
   "outputs": [],
   "source": [
    "learn = Learner(data, model, metrics=accuracy).to_fp16()"
   ]
  },
  {
   "cell_type": "code",
   "execution_count": 28,
   "metadata": {},
   "outputs": [
    {
     "data": {
      "text/html": [],
      "text/plain": [
       "<IPython.core.display.HTML object>"
      ]
     },
     "metadata": {},
     "output_type": "display_data"
    },
    {
     "name": "stdout",
     "output_type": "stream",
     "text": [
      "LR Finder is complete, type {learner_name}.recorder.plot() to see the graph.\n"
     ]
    }
   ],
   "source": [
    "learn.lr_find()"
   ]
  },
  {
   "cell_type": "code",
   "execution_count": 19,
   "metadata": {},
   "outputs": [
    {
     "name": "stdout",
     "output_type": "stream",
     "text": [
      "Min numerical gradient: 4.79E-04\n",
      "Min loss divided by 10: 1.74E-04\n"
     ]
    },
    {
     "data": {
      "image/png": "[encoded data removed]",
      "text/plain": [
       "<Figure size 432x288 with 1 Axes>"
      ]
     },
     "metadata": {
      "needs_background": "light"
     },
     "output_type": "display_data"
    }
   ],
   "source": [
    "learn.recorder.plot(suggestion=True) "
   ]
  },
  {
   "cell_type": "code",
   "execution_count": 29,
   "metadata": {},
   "outputs": [
    {
     "name": "stdout",
     "output_type": "stream",
     "text": [
      "Min numerical gradient: 1.32E-04\n",
      "Min loss divided by 10: 3.02E-04\n"
     ]
    },
    {
     "data": {
      "image/png": "[encoded data removed]",
      "text/plain": [
       "<Figure size 432x288 with 1 Axes>"
      ]
     },
     "metadata": {
      "needs_background": "light"
     },
     "output_type": "display_data"
    }
   ],
   "source": [
    "learn.recorder.plot(suggestion=True) "
   ]
  },
  {
   "cell_type": "code",
   "execution_count": null,
   "metadata": {
    "scrolled": true
   },
   "outputs": [],
   "source": [
    "for _ in range(1):\n",
    "    model = folded_resnet(Stem = conv_bn, Stage = ResStage, Unit = xception, ni=64,\n",
    "                          num_stages=5, num_units=10, exp=1, first_downsample=False)\n",
    "    learn = Learner(data, model, metrics=accuracy).to_fp16()\n",
    "    learn.fit_one_cycle(40, 1e-3) "
   ]
  },
  {
   "cell_type": "code",
   "execution_count": null,
   "metadata": {},
   "outputs": [],
   "source": []
  }
 ],
 "metadata": {
  "kernelspec": {
   "display_name": "Python 3",
   "language": "python",
   "name": "python3"
  },
  "language_info": {
   "codemirror_mode": {
    "name": "ipython",
    "version": 3
   },
   "file_extension": ".py",
   "mimetype": "text/x-python",
   "name": "python",
   "nbconvert_exporter": "python",
   "pygments_lexer": "ipython3",
   "version": "3.7.4"
  }
 },
 "nbformat": 4,
 "nbformat_minor": 1
}

{
 "cells": [
  {
   "cell_type": "code",
   "execution_count": null,
   "metadata": {
    "collapsed": true
   },
   "outputs": [],
   "source": [
    "一个深度学习项目的目录结构：\n",
    "    data_loader.py    以batch为单位可遍历的数据\n",
    "    net.py            深度学习的网络模型、误差函数、测量函数\n",
    "    train.py          训练一个epoch的训练数据\n",
    "    evaluate.py       评估一个epoch的评估数据\n",
    "    train_and_evaluate.py  训练并评估数据，记录日志，记录参数，记录效果，调用train和evaluate\n",
    "    train_main.py     训练和评估的主程序，初始化模型和数据等，并调用train_and_evaluate\n",
    "    utils.py          辅助函数\n",
    "    params.json       模型的超参数\n",
    "    /data             数据目录，所有数据在此\n",
    "    /runs             运行目录，所有运行时记录在此"
   ]
  },
  {
   "cell_type": "markdown",
   "metadata": {},
   "source": [
    "## 第一步，获得数据 Data Explore"
   ]
  },
  {
   "cell_type": "code",
   "execution_count": 7,
   "metadata": {
    "collapsed": true
   },
   "outputs": [],
   "source": [
    "from data_loader import fetch_dataloader\n",
    "import utils\n",
    "\n",
    "import pandas as pd"
   ]
  },
  {
   "cell_type": "code",
   "execution_count": 2,
   "metadata": {
    "collapsed": true
   },
   "outputs": [],
   "source": [
    "types = ['train', 'val']\n",
    "data_dir = 'data/MNIST'\n",
    "\n",
    "json_path = 'params.json'\n",
    "params = utils.Params(json_path)\n",
    "\n",
    "dataloaders = fetch_dataloader(types, data_dir, params)\n",
    "\n",
    "train_dl = dataloaders['train']\n",
    "val_dl = dataloaders['val']\n"
   ]
  },
  {
   "cell_type": "code",
   "execution_count": 3,
   "metadata": {},
   "outputs": [
    {
     "name": "stdout",
     "output_type": "stream",
     "text": [
      "训练数据一个mini－batch数据的维度：［mini－batch大小，inChannel，Height，Width torch.Size([64, 784]) ；和其分类： tensor([ 5,  5,  7,  1,  6,  0,  6,  4,  0,  2,  3,  7,  0,  8,\n",
      "         7,  4,  7,  8,  1,  5,  4,  7,  4,  7,  7,  3,  8,  0,\n",
      "         8,  1,  7,  7,  8,  3,  8,  1,  5,  9,  5,  1,  0,  3,\n",
      "         3,  5,  7,  9,  3,  8,  7,  1,  9,  1,  3,  7,  6,  0,\n",
      "         1,  6,  9,  3,  7,  9,  8,  7])\n"
     ]
    }
   ],
   "source": [
    "for data, target in train_dl:\n",
    "    print('训练数据一个mini－batch数据的维度：［mini－batch大小，inChannel，Height，Width', \n",
    "          data.size(), '；和其分类：',target)\n",
    "    break"
   ]
  },
  {
   "cell_type": "code",
   "execution_count": 25,
   "metadata": {},
   "outputs": [
    {
     "data": {
      "text/plain": [
       "torch.Size([784])"
      ]
     },
     "execution_count": 25,
     "metadata": {},
     "output_type": "execute_result"
    }
   ],
   "source": [
    "train_dl.dataset[0][0].size()"
   ]
  },
  {
   "cell_type": "markdown",
   "metadata": {},
   "source": [
    "## 第二步，建模 modeling of neural network"
   ]
  },
  {
   "cell_type": "code",
   "execution_count": 4,
   "metadata": {},
   "outputs": [],
   "source": [
    "import torch\n",
    "import torch.optim as optim\n",
    "\n",
    "import net\n",
    "\n",
    "# use GPU if available\n",
    "params.cuda = torch.cuda.is_available()\n",
    "\n",
    "model = net.Net(params).cuda() if params.cuda else net.Net(params)\n",
    "optimizer = optim.Adam(model.parameters(), lr=params.learning_rate)\n",
    "\n",
    "# fetch loss function and metrics\n",
    "loss_fn = net.loss_fn\n",
    "accuracy_fn = net.accuracy_fn\n",
    "\n",
    "# set model to training mode\n",
    "model.train()\n",
    "\n",
    "# summary for current training loop and a running average object for loss\n",
    "loss_avg = utils.RunningAverage()\n",
    "accuracy_avg = utils.RunningAverage()\n",
    "\n",
    "for i, (train_batch, labels_batch) in enumerate(train_dl):\n",
    "    if i == 500:\n",
    "        break\n",
    "    \n",
    "    train_batch.requires_grad = True\n",
    "    \n",
    "    # compute model output and loss\n",
    "    output_batch = model(train_batch)\n",
    "    loss = loss_fn(output_batch, labels_batch)\n",
    "    accuracy = accuracy_fn(output_batch, labels_batch)\n",
    "\n",
    "    # clear previous gradients, compute gradients of all tensors wrt loss\n",
    "    optimizer.zero_grad()\n",
    "    loss.backward()\n",
    "\n",
    "    # performs updates using calculated gradients\n",
    "    optimizer.step()\n",
    "\n",
    "    # update the average loss\n",
    "    loss_avg.update(loss.data.item())  # loss.data[0]\n",
    "    accuracy_avg.update(accuracy)\n",
    "\n"
   ]
  },
  {
   "cell_type": "code",
   "execution_count": 5,
   "metadata": {},
   "outputs": [
    {
     "data": {
      "text/plain": [
       "0.09375"
      ]
     },
     "execution_count": 5,
     "metadata": {},
     "output_type": "execute_result"
    }
   ],
   "source": [
    "sum(output_batch.max(dim=1)[1] == labels_batch).item() / len(labels_batch)"
   ]
  },
  {
   "cell_type": "code",
   "execution_count": 123,
   "metadata": {
    "collapsed": true
   },
   "outputs": [],
   "source": [
    "??accuracy_fn"
   ]
  },
  {
   "cell_type": "code",
   "execution_count": 83,
   "metadata": {},
   "outputs": [
    {
     "name": "stdout",
     "output_type": "stream",
     "text": [
      "tensor(1.00000e-06 *\n",
      "       -6.3776)\n",
      "tensor(1.00000e-04 *\n",
      "       -4.1262)\n",
      "tensor(1.00000e-03 *\n",
      "       -3.8412)\n",
      "tensor(1.00000e-03 *\n",
      "       -1.7876)\n"
     ]
    }
   ],
   "source": [
    "loss.data\n",
    "for tag, value in model.named_parameters():\n",
    "    print(value.grad.data.mean())"
   ]
  },
  {
   "cell_type": "code",
   "execution_count": 79,
   "metadata": {},
   "outputs": [
    {
     "data": {
      "text/plain": [
       "12.594458438287154"
      ]
     },
     "execution_count": 79,
     "metadata": {},
     "output_type": "execute_result"
    }
   ],
   "source": [
    "inFeatures = 28 * 28\n",
    "outFeatures = 10\n",
    "numSamples = 60000\n",
    "scale = (2+10)/2\n",
    "numSamples / (scale * (inFeatures + outFeatures))"
   ]
  },
  {
   "cell_type": "code",
   "execution_count": 85,
   "metadata": {},
   "outputs": [
    {
     "name": "stdout",
     "output_type": "stream",
     "text": [
      "Net(\n",
      "  (layers): ModuleList(\n",
      "    (0): Linear(in_features=784, out_features=30, bias=True)\n",
      "    (1): Linear(in_features=30, out_features=10, bias=True)\n",
      "  )\n",
      ")\n"
     ]
    }
   ],
   "source": [
    "print(model)"
   ]
  },
  {
   "cell_type": "code",
   "execution_count": 88,
   "metadata": {},
   "outputs": [
    {
     "data": {
      "text/plain": [
       "Net(\n",
       "  (layers): ModuleList(\n",
       "    (0): Linear(in_features=784, out_features=30, bias=True)\n",
       "    (1): Linear(in_features=30, out_features=10, bias=True)\n",
       "  )\n",
       ")"
      ]
     },
     "execution_count": 88,
     "metadata": {},
     "output_type": "execute_result"
    }
   ],
   "source": [
    "model.train()"
   ]
  },
  {
   "cell_type": "code",
   "execution_count": 94,
   "metadata": {},
   "outputs": [
    {
     "data": {
      "text/plain": [
       "[{'amsgrad': False,\n",
       "  'betas': (0.9, 0.999),\n",
       "  'eps': 1e-08,\n",
       "  'lr': 0.001,\n",
       "  'params': [Parameter containing:\n",
       "   tensor([[-2.4560e-02, -3.2280e-02,  9.6532e-03,  ...,  1.9748e-02,\n",
       "             1.0295e-03,  2.1261e-02],\n",
       "           [-1.3537e-03,  3.3322e-02, -1.4561e-02,  ...,  2.6652e-02,\n",
       "            -2.7239e-02, -3.1088e-02],\n",
       "           [-3.8912e-03, -3.2239e-02, -2.1400e-02,  ..., -1.1273e-03,\n",
       "            -1.7310e-02, -1.8220e-03],\n",
       "           ...,\n",
       "           [-3.9339e-02, -4.5194e-02,  5.8162e-03,  ...,  1.6468e-02,\n",
       "            -3.3111e-02, -1.1704e-02],\n",
       "           [ 4.4177e-03, -4.2200e-02, -5.0954e-02,  ..., -6.0457e-02,\n",
       "            -1.7481e-02, -4.1432e-02],\n",
       "           [ 1.2397e-02, -2.1283e-02, -4.4556e-02,  ..., -4.2328e-03,\n",
       "             1.3061e-02, -1.4537e-02]]), Parameter containing:\n",
       "   tensor(1.00000e-02 *\n",
       "          [ 1.4183, -2.9061,  1.7377,  2.8914, -2.5677,  1.8172,  2.1049,\n",
       "           -2.7016, -0.4296,  3.0822, -0.3704, -0.2884,  5.1959,  0.2983,\n",
       "           -0.6647,  0.1449, -0.3032,  1.3560,  0.7679,  1.5931,  0.6763,\n",
       "           -0.9617,  3.0343, -0.0343, -2.6157,  4.0739, -2.8109, -1.2482,\n",
       "            1.1815,  0.9386]), Parameter containing:\n",
       "   tensor([[ 0.2674, -0.0279,  0.2497,  0.1391, -0.1496,  0.1683, -0.1174,\n",
       "             0.2006,  0.1617, -0.1472, -0.0761, -0.0746, -0.0025, -0.2221,\n",
       "            -0.0066,  0.0617,  0.1002,  0.0754, -0.2388,  0.1449, -0.1955,\n",
       "             0.0968, -0.1776,  0.1456, -0.1117,  0.1803,  0.0704, -0.0250,\n",
       "            -0.1961,  0.0544],\n",
       "           [-0.0591, -0.0501, -0.2186,  0.1106, -0.3138, -0.1238, -0.1083,\n",
       "             0.0820,  0.0347,  0.0559,  0.1841,  0.1292, -0.1967,  0.1588,\n",
       "            -0.2388,  0.0084, -0.1637, -0.2162,  0.1693, -0.0402, -0.0825,\n",
       "            -0.1894,  0.1726,  0.0674,  0.0587, -0.2404, -0.0146, -0.3423,\n",
       "             0.2412, -0.2491],\n",
       "           [ 0.0124, -0.1357, -0.1262,  0.1324,  0.0991,  0.0181,  0.0994,\n",
       "             0.0157,  0.1273, -0.1730,  0.1182,  0.0955, -0.0854, -0.1044,\n",
       "            -0.0997,  0.0605, -0.1424,  0.1640, -0.2063, -0.0347, -0.2209,\n",
       "            -0.1312,  0.0926, -0.1531, -0.1670,  0.0837, -0.1679, -0.0961,\n",
       "            -0.1471, -0.1221],\n",
       "           [-0.1372, -0.1180, -0.0696,  0.0638,  0.1927, -0.1277,  0.0451,\n",
       "             0.0928,  0.1045, -0.0405, -0.0787,  0.1364,  0.1952, -0.0738,\n",
       "            -0.0375,  0.0640,  0.0290,  0.0315,  0.0065,  0.2317, -0.0274,\n",
       "            -0.2478,  0.1316, -0.1307, -0.2683, -0.0643,  0.2255, -0.1553,\n",
       "             0.1375, -0.1528],\n",
       "           [-0.1769,  0.0953, -0.2536,  0.1172,  0.0403,  0.1195,  0.0567,\n",
       "             0.0382,  0.1052,  0.2243,  0.2291,  0.2034,  0.0880,  0.0161,\n",
       "            -0.2050, -0.0841, -0.3130, -0.3382, -0.1634, -0.1680,  0.0189,\n",
       "            -0.2148, -0.2799, -0.3585,  0.0525,  0.1432,  0.0946,  0.0586,\n",
       "            -0.1118, -0.1055],\n",
       "           [-0.1394, -0.2005,  0.1281,  0.1672,  0.1146,  0.1806,  0.0108,\n",
       "             0.0332,  0.0963, -0.0773, -0.0172,  0.0783,  0.1730, -0.1478,\n",
       "            -0.1849, -0.1919, -0.1748, -0.2559,  0.1919,  0.1131, -0.2014,\n",
       "             0.0119, -0.1967,  0.0247,  0.2337,  0.1360, -0.1106, -0.0981,\n",
       "             0.0752,  0.2082],\n",
       "           [-0.1760, -0.0693,  0.2167, -0.1972, -0.2337,  0.1846,  0.1107,\n",
       "             0.2691,  0.2269, -0.0464,  0.0932, -0.1586, -0.0394,  0.0853,\n",
       "            -0.2260,  0.1103, -0.2912,  0.0053, -0.0846, -0.1473, -0.1138,\n",
       "             0.0707, -0.1089, -0.2194, -0.1371, -0.1874,  0.1343,  0.2151,\n",
       "             0.1391,  0.0394],\n",
       "           [ 0.2538,  0.1561,  0.0871, -0.2187, -0.0265, -0.1124, -0.2669,\n",
       "            -0.1454, -0.2410,  0.1444,  0.1042,  0.1499, -0.1852, -0.0694,\n",
       "            -0.2699,  0.0997,  0.1284,  0.2105,  0.1736,  0.1500,  0.1449,\n",
       "            -0.2925, -0.1663,  0.1443,  0.0907,  0.0272, -0.1421,  0.2199,\n",
       "            -0.0523,  0.0469],\n",
       "           [-0.1326, -0.1701,  0.0308,  0.0644, -0.1142,  0.1160,  0.1829,\n",
       "            -0.2748, -0.2157,  0.1451,  0.0577,  0.1986, -0.1341, -0.2219,\n",
       "            -0.1727,  0.1224, -0.1503,  0.1376,  0.1457,  0.0573, -0.2620,\n",
       "             0.2358, -0.0981, -0.2516, -0.0864, -0.0865,  0.0954, -0.0525,\n",
       "             0.0333, -0.0774],\n",
       "           [ 0.1937,  0.0884, -0.0201, -0.0220,  0.2173, -0.2645, -0.1652,\n",
       "            -0.0813,  0.2107,  0.0167,  0.1732,  0.1007, -0.1579, -0.1830,\n",
       "            -0.1231, -0.1435, -0.1748, -0.0888,  0.0872, -0.1563, -0.1903,\n",
       "            -0.0184, -0.0706, -0.1680,  0.0052,  0.1902,  0.2044,  0.1918,\n",
       "             0.0101, -0.0243]]), Parameter containing:\n",
       "   tensor([ 0.1307, -0.1630, -0.0669, -0.1058, -0.0891, -0.0307,  0.0011,\n",
       "           -0.0640, -0.0422, -0.0130])],\n",
       "  'weight_decay': 0}]"
      ]
     },
     "execution_count": 94,
     "metadata": {},
     "output_type": "execute_result"
    }
   ],
   "source": [
    "optimizer.param_groups"
   ]
  },
  {
   "cell_type": "code",
   "execution_count": 95,
   "metadata": {
    "collapsed": true
   },
   "outputs": [],
   "source": [
    "a = '784-30-10'"
   ]
  },
  {
   "cell_type": "code",
   "execution_count": 99,
   "metadata": {},
   "outputs": [
    {
     "data": {
      "text/plain": [
       "[784, 30, 10]"
      ]
     },
     "execution_count": 99,
     "metadata": {},
     "output_type": "execute_result"
    }
   ],
   "source": [
    "[int(x) for x in a.split('-')]"
   ]
  },
  {
   "cell_type": "code",
   "execution_count": 45,
   "metadata": {
    "collapsed": true
   },
   "outputs": [],
   "source": [
    "\n",
    "train_matrics = {'accuracy': 0.1, 'loss':0.1}\n",
    "val_matrics = {'accuracy': 0.2, 'loss':0.2}"
   ]
  },
  {
   "cell_type": "code",
   "execution_count": 47,
   "metadata": {},
   "outputs": [
    {
     "data": {
      "text/plain": [
       "{'accuracy': 0.1, 'loss': 0.1}"
      ]
     },
     "execution_count": 47,
     "metadata": {},
     "output_type": "execute_result"
    }
   ],
   "source": [
    "train_matrics['']"
   ]
  },
  {
   "cell_type": "code",
   "execution_count": 67,
   "metadata": {
    "collapsed": true
   },
   "outputs": [],
   "source": [
    "a = pd.DataFrame(params.dict, index=range(1))\n",
    "train_matrics['type'] = 'train'\n",
    "b = pd.DataFrame(train_matrics, index=range(1))"
   ]
  },
  {
   "cell_type": "code",
   "execution_count": 13,
   "metadata": {},
   "outputs": [
    {
     "data": {
      "text/html": [
       "<div>\n",
       "<style>\n",
       "    .dataframe thead tr:only-child th {\n",
       "        text-align: right;\n",
       "    }\n",
       "\n",
       "    .dataframe thead th {\n",
       "        text-align: left;\n",
       "    }\n",
       "\n",
       "    .dataframe tbody tr th {\n",
       "        vertical-align: top;\n",
       "    }\n",
       "</style>\n",
       "<table border=\"1\" class=\"dataframe\">\n",
       "  <thead>\n",
       "    <tr style=\"text-align: right;\">\n",
       "      <th></th>\n",
       "      <th>train_batch_size</th>\n",
       "      <th>test_batch_size</th>\n",
       "      <th>num_workers</th>\n",
       "      <th>learning_rate</th>\n",
       "      <th>num_epochs</th>\n",
       "      <th>save_summary_steps</th>\n",
       "      <th>wide_of_layers</th>\n",
       "      <th>act_fn_name</th>\n",
       "      <th>cuda</th>\n",
       "    </tr>\n",
       "  </thead>\n",
       "  <tbody>\n",
       "    <tr>\n",
       "      <th>0</th>\n",
       "      <td>64</td>\n",
       "      <td>64</td>\n",
       "      <td>4</td>\n",
       "      <td>0.0001</td>\n",
       "      <td>100</td>\n",
       "      <td>100</td>\n",
       "      <td>784-30-10</td>\n",
       "      <td>tanh</td>\n",
       "      <td>False</td>\n",
       "    </tr>\n",
       "  </tbody>\n",
       "</table>\n",
       "</div>"
      ],
      "text/plain": [
       "   train_batch_size  test_batch_size  num_workers  learning_rate  num_epochs  \\\n",
       "0                64               64            4         0.0001         100   \n",
       "\n",
       "   save_summary_steps wide_of_layers act_fn_name   cuda  \n",
       "0                 100      784-30-10        tanh  False  "
      ]
     },
     "execution_count": 13,
     "metadata": {},
     "output_type": "execute_result"
    }
   ],
   "source": [
    "pd.DataFrame(params.dict, index=range(1), columns=params.dict.keys())"
   ]
  },
  {
   "cell_type": "code",
   "execution_count": 73,
   "metadata": {},
   "outputs": [
    {
     "data": {
      "text/html": [
       "<div>\n",
       "<style>\n",
       "    .dataframe thead tr:only-child th {\n",
       "        text-align: right;\n",
       "    }\n",
       "\n",
       "    .dataframe thead th {\n",
       "        text-align: left;\n",
       "    }\n",
       "\n",
       "    .dataframe tbody tr th {\n",
       "        vertical-align: top;\n",
       "    }\n",
       "</style>\n",
       "<table border=\"1\" class=\"dataframe\">\n",
       "  <thead>\n",
       "    <tr style=\"text-align: right;\">\n",
       "      <th></th>\n",
       "      <th>accuracy</th>\n",
       "      <th>loss</th>\n",
       "      <th>type</th>\n",
       "    </tr>\n",
       "  </thead>\n",
       "  <tbody>\n",
       "    <tr>\n",
       "      <th>0</th>\n",
       "      <td>0.1</td>\n",
       "      <td>0.1</td>\n",
       "      <td>train</td>\n",
       "    </tr>\n",
       "  </tbody>\n",
       "</table>\n",
       "</div>"
      ],
      "text/plain": [
       "   accuracy  loss   type\n",
       "0       0.1   0.1  train"
      ]
     },
     "execution_count": 73,
     "metadata": {},
     "output_type": "execute_result"
    }
   ],
   "source": [
    "b"
   ]
  },
  {
   "cell_type": "code",
   "execution_count": 77,
   "metadata": {},
   "outputs": [
    {
     "data": {
      "text/html": [
       "<div>\n",
       "<style>\n",
       "    .dataframe thead tr:only-child th {\n",
       "        text-align: right;\n",
       "    }\n",
       "\n",
       "    .dataframe thead th {\n",
       "        text-align: left;\n",
       "    }\n",
       "\n",
       "    .dataframe tbody tr th {\n",
       "        vertical-align: top;\n",
       "    }\n",
       "</style>\n",
       "<table border=\"1\" class=\"dataframe\">\n",
       "  <thead>\n",
       "    <tr style=\"text-align: right;\">\n",
       "      <th></th>\n",
       "      <th>act_fn_name</th>\n",
       "      <th>cuda</th>\n",
       "      <th>learning_rate</th>\n",
       "      <th>num_epochs</th>\n",
       "      <th>num_workers</th>\n",
       "      <th>save_summary_steps</th>\n",
       "      <th>test_batch_size</th>\n",
       "      <th>train_batch_size</th>\n",
       "      <th>wide_of_layers</th>\n",
       "      <th>accuracy</th>\n",
       "      <th>loss</th>\n",
       "      <th>type</th>\n",
       "    </tr>\n",
       "  </thead>\n",
       "  <tbody>\n",
       "    <tr>\n",
       "      <th>0</th>\n",
       "      <td>tanh</td>\n",
       "      <td>False</td>\n",
       "      <td>0.0001</td>\n",
       "      <td>100</td>\n",
       "      <td>4</td>\n",
       "      <td>100</td>\n",
       "      <td>64</td>\n",
       "      <td>64</td>\n",
       "      <td>784-30-10</td>\n",
       "      <td>0.1</td>\n",
       "      <td>0.1</td>\n",
       "      <td>train</td>\n",
       "    </tr>\n",
       "  </tbody>\n",
       "</table>\n",
       "</div>"
      ],
      "text/plain": [
       "  act_fn_name   cuda  learning_rate  num_epochs  num_workers  \\\n",
       "0        tanh  False         0.0001         100            4   \n",
       "\n",
       "   save_summary_steps  test_batch_size  train_batch_size wide_of_layers  \\\n",
       "0                 100               64                64      784-30-10   \n",
       "\n",
       "   accuracy  loss   type  \n",
       "0       0.1   0.1  train  "
      ]
     },
     "execution_count": 77,
     "metadata": {},
     "output_type": "execute_result"
    }
   ],
   "source": [
    "pd.concat([a, b], axis=1)"
   ]
  },
  {
   "cell_type": "code",
   "execution_count": 79,
   "metadata": {},
   "outputs": [
    {
     "data": {
      "text/plain": [
       "{'act_fn_name': 'tanh',\n",
       " 'cuda': False,\n",
       " 'learning_rate': 0.0001,\n",
       " 'num_epochs': 100,\n",
       " 'num_workers': 4,\n",
       " 'save_summary_steps': 100,\n",
       " 'test_batch_size': 64,\n",
       " 'train_batch_size': 64,\n",
       " 'wide_of_layers': '784-30-10'}"
      ]
     },
     "execution_count": 79,
     "metadata": {},
     "output_type": "execute_result"
    }
   ],
   "source": [
    "params.dict"
   ]
  },
  {
   "cell_type": "code",
   "execution_count": 93,
   "metadata": {
    "collapsed": true
   },
   "outputs": [],
   "source": [
    "a = pd.DataFrame()\n",
    "b = pd.DataFrame(params.dict, index=range(1))\n",
    "a =a.append(b, ignore_index=True)"
   ]
  },
  {
   "cell_type": "code",
   "execution_count": 97,
   "metadata": {
    "collapsed": true
   },
   "outputs": [],
   "source": [
    "a =a.append(b, ignore_index=False)"
   ]
  },
  {
   "cell_type": "code",
   "execution_count": 98,
   "metadata": {},
   "outputs": [
    {
     "data": {
      "text/html": [
       "<div>\n",
       "<style>\n",
       "    .dataframe thead tr:only-child th {\n",
       "        text-align: right;\n",
       "    }\n",
       "\n",
       "    .dataframe thead th {\n",
       "        text-align: left;\n",
       "    }\n",
       "\n",
       "    .dataframe tbody tr th {\n",
       "        vertical-align: top;\n",
       "    }\n",
       "</style>\n",
       "<table border=\"1\" class=\"dataframe\">\n",
       "  <thead>\n",
       "    <tr style=\"text-align: right;\">\n",
       "      <th></th>\n",
       "      <th>act_fn_name</th>\n",
       "      <th>cuda</th>\n",
       "      <th>learning_rate</th>\n",
       "      <th>num_epochs</th>\n",
       "      <th>num_workers</th>\n",
       "      <th>save_summary_steps</th>\n",
       "      <th>test_batch_size</th>\n",
       "      <th>train_batch_size</th>\n",
       "      <th>wide_of_layers</th>\n",
       "    </tr>\n",
       "  </thead>\n",
       "  <tbody>\n",
       "    <tr>\n",
       "      <th>0</th>\n",
       "      <td>tanh</td>\n",
       "      <td>False</td>\n",
       "      <td>0.0001</td>\n",
       "      <td>100</td>\n",
       "      <td>4</td>\n",
       "      <td>100</td>\n",
       "      <td>64</td>\n",
       "      <td>64</td>\n",
       "      <td>784-30-10</td>\n",
       "    </tr>\n",
       "    <tr>\n",
       "      <th>1</th>\n",
       "      <td>tanh</td>\n",
       "      <td>False</td>\n",
       "      <td>0.0001</td>\n",
       "      <td>100</td>\n",
       "      <td>4</td>\n",
       "      <td>100</td>\n",
       "      <td>64</td>\n",
       "      <td>64</td>\n",
       "      <td>784-30-10</td>\n",
       "    </tr>\n",
       "    <tr>\n",
       "      <th>0</th>\n",
       "      <td>tanh</td>\n",
       "      <td>False</td>\n",
       "      <td>0.0001</td>\n",
       "      <td>100</td>\n",
       "      <td>4</td>\n",
       "      <td>100</td>\n",
       "      <td>64</td>\n",
       "      <td>64</td>\n",
       "      <td>784-30-10</td>\n",
       "    </tr>\n",
       "  </tbody>\n",
       "</table>\n",
       "</div>"
      ],
      "text/plain": [
       "  act_fn_name   cuda  learning_rate  num_epochs  num_workers  \\\n",
       "0        tanh  False         0.0001         100            4   \n",
       "1        tanh  False         0.0001         100            4   \n",
       "0        tanh  False         0.0001         100            4   \n",
       "\n",
       "   save_summary_steps  test_batch_size  train_batch_size wide_of_layers  \n",
       "0                 100               64                64      784-30-10  \n",
       "1                 100               64                64      784-30-10  \n",
       "0                 100               64                64      784-30-10  "
      ]
     },
     "execution_count": 98,
     "metadata": {},
     "output_type": "execute_result"
    }
   ],
   "source": [
    "a"
   ]
  },
  {
   "cell_type": "code",
   "execution_count": 101,
   "metadata": {
    "collapsed": true
   },
   "outputs": [],
   "source": [
    "params.dict['layer0.bias'] = 1"
   ]
  },
  {
   "cell_type": "code",
   "execution_count": 107,
   "metadata": {
    "collapsed": true
   },
   "outputs": [],
   "source": [
    "import copy"
   ]
  },
  {
   "cell_type": "code",
   "execution_count": 111,
   "metadata": {
    "collapsed": true
   },
   "outputs": [],
   "source": [
    "a = copy.deepcopy(params)"
   ]
  },
  {
   "cell_type": "code",
   "execution_count": 112,
   "metadata": {},
   "outputs": [
    {
     "data": {
      "text/plain": [
       "<utils.Params at 0x12948bac8>"
      ]
     },
     "execution_count": 112,
     "metadata": {},
     "output_type": "execute_result"
    }
   ],
   "source": [
    "a"
   ]
  },
  {
   "cell_type": "code",
   "execution_count": 113,
   "metadata": {},
   "outputs": [
    {
     "data": {
      "text/plain": [
       "{'act_fn_name': 'tanh',\n",
       " 'cuda': False,\n",
       " 'layer0.bias': 1,\n",
       " 'learning_rate': 0.0001,\n",
       " 'num_epochs': 100,\n",
       " 'num_workers': 4,\n",
       " 'save_summary_steps': 100,\n",
       " 'test_batch_size': 64,\n",
       " 'train_batch_size': 64,\n",
       " 'wide_of_layers': '784-30-10'}"
      ]
     },
     "execution_count": 113,
     "metadata": {},
     "output_type": "execute_result"
    }
   ],
   "source": [
    "a.dict"
   ]
  },
  {
   "cell_type": "code",
   "execution_count": null,
   "metadata": {
    "collapsed": true
   },
   "outputs": [],
   "source": []
  }
 ],
 "metadata": {
  "kernelspec": {
   "display_name": "Python 3",
   "language": "python",
   "name": "python3"
  },
  "language_info": {
   "codemirror_mode": {
    "name": "ipython",
    "version": 3
   },
   "file_extension": ".py",
   "mimetype": "text/x-python",
   "name": "python",
   "nbconvert_exporter": "python",
   "pygments_lexer": "ipython3",
   "version": "3.6.4"
  }
 },
 "nbformat": 4,
 "nbformat_minor": 2
}

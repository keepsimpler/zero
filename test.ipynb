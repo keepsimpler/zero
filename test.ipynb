{
 "cells": [
  {
   "cell_type": "code",
   "execution_count": null,
   "metadata": {
    "collapsed": true
   },
   "outputs": [],
   "source": [
    "一个深度学习项目的目录结构：\n",
    "    data_loader.py    以batch为单位可遍历的数据\n",
    "    net.py            深度学习的网络模型、误差函数、测量函数\n",
    "    train.py          训练一个epoch的训练数据\n",
    "    evaluate.py       评估一个epoch的评估数据\n",
    "    train_and_evaluate.py  训练并评估数据，记录日志，记录参数，记录效果，调用train和evaluate\n",
    "    train_main.py     训练和评估的主程序，初始化模型和数据等，并调用train_and_evaluate\n",
    "    utils.py          辅助函数\n",
    "    params.json       模型的超参数\n",
    "    /data             数据目录，所有数据在此\n",
    "    /runs             运行目录，所有运行时记录在此"
   ]
  },
  {
   "cell_type": "markdown",
   "metadata": {},
   "source": [
    "## 第一步，获得数据 Data Explore"
   ]
  },
  {
   "cell_type": "code",
   "execution_count": 7,
   "metadata": {
    "collapsed": true
   },
   "outputs": [],
   "source": [
    "from data_loader import fetch_dataloader\n",
    "import utils\n",
    "\n",
    "import pandas as pd"
   ]
  },
  {
   "cell_type": "code",
   "execution_count": 2,
   "metadata": {
    "collapsed": true
   },
   "outputs": [],
   "source": [
    "types = ['train', 'val']\n",
    "data_dir = 'data/MNIST'\n",
    "\n",
    "json_path = 'params.json'\n",
    "params = utils.Params(json_path)\n",
    "\n",
    "dataloaders = fetch_dataloader(types, data_dir, params)\n",
    "\n",
    "train_dl = dataloaders['train']\n",
    "val_dl = dataloaders['val']\n"
   ]
  },
  {
   "cell_type": "code",
   "execution_count": 3,
   "metadata": {},
   "outputs": [
    {
     "name": "stdout",
     "output_type": "stream",
     "text": [
      "训练数据一个mini－batch数据的维度：［mini－batch大小，inChannel，Height，Width torch.Size([64, 784]) ；和其分类： tensor([ 5,  5,  7,  1,  6,  0,  6,  4,  0,  2,  3,  7,  0,  8,\n",
      "         7,  4,  7,  8,  1,  5,  4,  7,  4,  7,  7,  3,  8,  0,\n",
      "         8,  1,  7,  7,  8,  3,  8,  1,  5,  9,  5,  1,  0,  3,\n",
      "         3,  5,  7,  9,  3,  8,  7,  1,  9,  1,  3,  7,  6,  0,\n",
      "         1,  6,  9,  3,  7,  9,  8,  7])\n"
     ]
    }
   ],
   "source": [
    "for data, target in train_dl:\n",
    "    print('训练数据一个mini－batch数据的维度：［mini－batch大小，inChannel，Height，Width', \n",
    "          data.size(), '；和其分类：',target)\n",
    "    break"
   ]
  },
  {
   "cell_type": "code",
   "execution_count": 25,
   "metadata": {},
   "outputs": [
    {
     "data": {
      "text/plain": [
       "torch.Size([784])"
      ]
     },
     "execution_count": 25,
     "metadata": {},
     "output_type": "execute_result"
    }
   ],
   "source": [
    "train_dl.dataset[0][0].size()"
   ]
  },
  {
   "cell_type": "markdown",
   "metadata": {},
   "source": [
    "## 第二步，建模 modeling of neural network"
   ]
  },
  {
   "cell_type": "code",
   "execution_count": 4,
   "metadata": {
    "collapsed": true
   },
   "outputs": [],
   "source": [
    "import torch\n",
    "import torch.optim as optim\n",
    "\n",
    "import net\n",
    "\n",
    "# use GPU if available\n",
    "params.cuda = torch.cuda.is_available()\n",
    "\n",
    "model = net.Net(params).cuda() if params.cuda else net.Net(params)\n",
    "optimizer = optim.Adam(model.parameters(), lr=params.learning_rate)\n",
    "\n",
    "# fetch loss function and metrics\n",
    "loss_fn = net.loss_fn\n",
    "accuracy_fn = net.accuracy_fn\n",
    "\n",
    "# set model to training mode\n",
    "model.train()\n",
    "\n",
    "# summary for current training loop and a running average object for loss\n",
    "loss_avg = utils.RunningAverage()\n",
    "accuracy_avg = utils.RunningAverage()\n",
    "\n",
    "for i, (train_batch, labels_batch) in enumerate(train_dl):\n",
    "    if i == 500:\n",
    "        break\n",
    "    \n",
    "    train_batch.requires_grad = True\n",
    "    \n",
    "    # compute model output and loss\n",
    "    output_batch = model(train_batch)\n",
    "    loss = loss_fn(output_batch, labels_batch)\n",
    "    accuracy = accuracy_fn(output_batch, labels_batch)\n",
    "\n",
    "    # clear previous gradients, compute gradients of all tensors wrt loss\n",
    "    optimizer.zero_grad()\n",
    "    loss.backward()\n",
    "\n",
    "    # performs updates using calculated gradients\n",
    "    optimizer.step()\n",
    "\n",
    "    # update the average loss\n",
    "    loss_avg.update(loss.data.item())  # loss.data[0]\n",
    "    accuracy_avg.update(accuracy)\n",
    "\n"
   ]
  },
  {
   "cell_type": "code",
   "execution_count": 5,
   "metadata": {},
   "outputs": [
    {
     "data": {
      "text/plain": [
       "0.09375"
      ]
     },
     "execution_count": 5,
     "metadata": {},
     "output_type": "execute_result"
    }
   ],
   "source": [
    "sum(output_batch.max(dim=1)[1] == labels_batch).item() / len(labels_batch)"
   ]
  },
  {
   "cell_type": "code",
   "execution_count": 123,
   "metadata": {
    "collapsed": true
   },
   "outputs": [],
   "source": [
    "??accuracy_fn"
   ]
  },
  {
   "cell_type": "code",
   "execution_count": 83,
   "metadata": {},
   "outputs": [
    {
     "name": "stdout",
     "output_type": "stream",
     "text": [
      "tensor(1.00000e-06 *\n",
      "       -6.3776)\n",
      "tensor(1.00000e-04 *\n",
      "       -4.1262)\n",
      "tensor(1.00000e-03 *\n",
      "       -3.8412)\n",
      "tensor(1.00000e-03 *\n",
      "       -1.7876)\n"
     ]
    }
   ],
   "source": [
    "loss.data\n",
    "for tag, value in model.named_parameters():\n",
    "    print(value.grad.data.mean())"
   ]
  },
  {
   "cell_type": "code",
   "execution_count": 79,
   "metadata": {},
   "outputs": [
    {
     "data": {
      "text/plain": [
       "12.594458438287154"
      ]
     },
     "execution_count": 79,
     "metadata": {},
     "output_type": "execute_result"
    }
   ],
   "source": [
    "inFeatures = 28 * 28\n",
    "outFeatures = 10\n",
    "numSamples = 60000\n",
    "scale = (2+10)/2\n",
    "numSamples / (scale * (inFeatures + outFeatures))"
   ]
  },
  {
   "cell_type": "code",
   "execution_count": 85,
   "metadata": {},
   "outputs": [
    {
     "name": "stdout",
     "output_type": "stream",
     "text": [
      "Net(\n",
      "  (layers): ModuleList(\n",
      "    (0): Linear(in_features=784, out_features=30, bias=True)\n",
      "    (1): Linear(in_features=30, out_features=10, bias=True)\n",
      "  )\n",
      ")\n"
     ]
    }
   ],
   "source": [
    "print(model)"
   ]
  },
  {
   "cell_type": "code",
   "execution_count": 88,
   "metadata": {},
   "outputs": [
    {
     "data": {
      "text/plain": [
       "Net(\n",
       "  (layers): ModuleList(\n",
       "    (0): Linear(in_features=784, out_features=30, bias=True)\n",
       "    (1): Linear(in_features=30, out_features=10, bias=True)\n",
       "  )\n",
       ")"
      ]
     },
     "execution_count": 88,
     "metadata": {},
     "output_type": "execute_result"
    }
   ],
   "source": [
    "model.train()"
   ]
  },
  {
   "cell_type": "code",
   "execution_count": null,
   "metadata": {
    "collapsed": true
   },
   "outputs": [],
   "source": [
    "optimizer.param_groups"
   ]
  },
  {
   "cell_type": "code",
   "execution_count": 95,
   "metadata": {
    "collapsed": true
   },
   "outputs": [],
   "source": [
    "a = '784-30-10'"
   ]
  },
  {
   "cell_type": "code",
   "execution_count": 99,
   "metadata": {},
   "outputs": [
    {
     "data": {
      "text/plain": [
       "[784, 30, 10]"
      ]
     },
     "execution_count": 99,
     "metadata": {},
     "output_type": "execute_result"
    }
   ],
   "source": [
    "[int(x) for x in a.split('-')]"
   ]
  },
  {
   "cell_type": "code",
   "execution_count": 45,
   "metadata": {
    "collapsed": true
   },
   "outputs": [],
   "source": [
    "\n",
    "train_matrics = {'accuracy': 0.1, 'loss':0.1}\n",
    "val_matrics = {'accuracy': 0.2, 'loss':0.2}"
   ]
  },
  {
   "cell_type": "code",
   "execution_count": 47,
   "metadata": {},
   "outputs": [
    {
     "data": {
      "text/plain": [
       "{'accuracy': 0.1, 'loss': 0.1}"
      ]
     },
     "execution_count": 47,
     "metadata": {},
     "output_type": "execute_result"
    }
   ],
   "source": [
    "train_matrics['']"
   ]
  },
  {
   "cell_type": "code",
   "execution_count": 67,
   "metadata": {
    "collapsed": true
   },
   "outputs": [],
   "source": [
    "a = pd.DataFrame(params.dict, index=range(1))\n",
    "train_matrics['type'] = 'train'\n",
    "b = pd.DataFrame(train_matrics, index=range(1))"
   ]
  },
  {
   "cell_type": "code",
   "execution_count": 13,
   "metadata": {},
   "outputs": [
    {
     "data": {
      "text/html": [
       "<div>\n",
       "<style>\n",
       "    .dataframe thead tr:only-child th {\n",
       "        text-align: right;\n",
       "    }\n",
       "\n",
       "    .dataframe thead th {\n",
       "        text-align: left;\n",
       "    }\n",
       "\n",
       "    .dataframe tbody tr th {\n",
       "        vertical-align: top;\n",
       "    }\n",
       "</style>\n",
       "<table border=\"1\" class=\"dataframe\">\n",
       "  <thead>\n",
       "    <tr style=\"text-align: right;\">\n",
       "      <th></th>\n",
       "      <th>train_batch_size</th>\n",
       "      <th>test_batch_size</th>\n",
       "      <th>num_workers</th>\n",
       "      <th>learning_rate</th>\n",
       "      <th>num_epochs</th>\n",
       "      <th>save_summary_steps</th>\n",
       "      <th>wide_of_layers</th>\n",
       "      <th>act_fn_name</th>\n",
       "      <th>cuda</th>\n",
       "    </tr>\n",
       "  </thead>\n",
       "  <tbody>\n",
       "    <tr>\n",
       "      <th>0</th>\n",
       "      <td>64</td>\n",
       "      <td>64</td>\n",
       "      <td>4</td>\n",
       "      <td>0.0001</td>\n",
       "      <td>100</td>\n",
       "      <td>100</td>\n",
       "      <td>784-30-10</td>\n",
       "      <td>tanh</td>\n",
       "      <td>False</td>\n",
       "    </tr>\n",
       "  </tbody>\n",
       "</table>\n",
       "</div>"
      ],
      "text/plain": [
       "   train_batch_size  test_batch_size  num_workers  learning_rate  num_epochs  \\\n",
       "0                64               64            4         0.0001         100   \n",
       "\n",
       "   save_summary_steps wide_of_layers act_fn_name   cuda  \n",
       "0                 100      784-30-10        tanh  False  "
      ]
     },
     "execution_count": 13,
     "metadata": {},
     "output_type": "execute_result"
    }
   ],
   "source": [
    "pd.DataFrame(params.dict, index=range(1), columns=params.dict.keys())"
   ]
  },
  {
   "cell_type": "code",
   "execution_count": 73,
   "metadata": {},
   "outputs": [
    {
     "data": {
      "text/html": [
       "<div>\n",
       "<style>\n",
       "    .dataframe thead tr:only-child th {\n",
       "        text-align: right;\n",
       "    }\n",
       "\n",
       "    .dataframe thead th {\n",
       "        text-align: left;\n",
       "    }\n",
       "\n",
       "    .dataframe tbody tr th {\n",
       "        vertical-align: top;\n",
       "    }\n",
       "</style>\n",
       "<table border=\"1\" class=\"dataframe\">\n",
       "  <thead>\n",
       "    <tr style=\"text-align: right;\">\n",
       "      <th></th>\n",
       "      <th>accuracy</th>\n",
       "      <th>loss</th>\n",
       "      <th>type</th>\n",
       "    </tr>\n",
       "  </thead>\n",
       "  <tbody>\n",
       "    <tr>\n",
       "      <th>0</th>\n",
       "      <td>0.1</td>\n",
       "      <td>0.1</td>\n",
       "      <td>train</td>\n",
       "    </tr>\n",
       "  </tbody>\n",
       "</table>\n",
       "</div>"
      ],
      "text/plain": [
       "   accuracy  loss   type\n",
       "0       0.1   0.1  train"
      ]
     },
     "execution_count": 73,
     "metadata": {},
     "output_type": "execute_result"
    }
   ],
   "source": [
    "b"
   ]
  },
  {
   "cell_type": "code",
   "execution_count": 77,
   "metadata": {},
   "outputs": [
    {
     "data": {
      "text/html": [
       "<div>\n",
       "<style>\n",
       "    .dataframe thead tr:only-child th {\n",
       "        text-align: right;\n",
       "    }\n",
       "\n",
       "    .dataframe thead th {\n",
       "        text-align: left;\n",
       "    }\n",
       "\n",
       "    .dataframe tbody tr th {\n",
       "        vertical-align: top;\n",
       "    }\n",
       "</style>\n",
       "<table border=\"1\" class=\"dataframe\">\n",
       "  <thead>\n",
       "    <tr style=\"text-align: right;\">\n",
       "      <th></th>\n",
       "      <th>act_fn_name</th>\n",
       "      <th>cuda</th>\n",
       "      <th>learning_rate</th>\n",
       "      <th>num_epochs</th>\n",
       "      <th>num_workers</th>\n",
       "      <th>save_summary_steps</th>\n",
       "      <th>test_batch_size</th>\n",
       "      <th>train_batch_size</th>\n",
       "      <th>wide_of_layers</th>\n",
       "      <th>accuracy</th>\n",
       "      <th>loss</th>\n",
       "      <th>type</th>\n",
       "    </tr>\n",
       "  </thead>\n",
       "  <tbody>\n",
       "    <tr>\n",
       "      <th>0</th>\n",
       "      <td>tanh</td>\n",
       "      <td>False</td>\n",
       "      <td>0.0001</td>\n",
       "      <td>100</td>\n",
       "      <td>4</td>\n",
       "      <td>100</td>\n",
       "      <td>64</td>\n",
       "      <td>64</td>\n",
       "      <td>784-30-10</td>\n",
       "      <td>0.1</td>\n",
       "      <td>0.1</td>\n",
       "      <td>train</td>\n",
       "    </tr>\n",
       "  </tbody>\n",
       "</table>\n",
       "</div>"
      ],
      "text/plain": [
       "  act_fn_name   cuda  learning_rate  num_epochs  num_workers  \\\n",
       "0        tanh  False         0.0001         100            4   \n",
       "\n",
       "   save_summary_steps  test_batch_size  train_batch_size wide_of_layers  \\\n",
       "0                 100               64                64      784-30-10   \n",
       "\n",
       "   accuracy  loss   type  \n",
       "0       0.1   0.1  train  "
      ]
     },
     "execution_count": 77,
     "metadata": {},
     "output_type": "execute_result"
    }
   ],
   "source": [
    "pd.concat([a, b], axis=1)"
   ]
  },
  {
   "cell_type": "code",
   "execution_count": 79,
   "metadata": {},
   "outputs": [
    {
     "data": {
      "text/plain": [
       "{'act_fn_name': 'tanh',\n",
       " 'cuda': False,\n",
       " 'learning_rate': 0.0001,\n",
       " 'num_epochs': 100,\n",
       " 'num_workers': 4,\n",
       " 'save_summary_steps': 100,\n",
       " 'test_batch_size': 64,\n",
       " 'train_batch_size': 64,\n",
       " 'wide_of_layers': '784-30-10'}"
      ]
     },
     "execution_count": 79,
     "metadata": {},
     "output_type": "execute_result"
    }
   ],
   "source": [
    "params.dict"
   ]
  },
  {
   "cell_type": "code",
   "execution_count": 93,
   "metadata": {
    "collapsed": true
   },
   "outputs": [],
   "source": [
    "a = pd.DataFrame()\n",
    "b = pd.DataFrame(params.dict, index=range(1))\n",
    "a =a.append(b, ignore_index=True)"
   ]
  },
  {
   "cell_type": "code",
   "execution_count": 97,
   "metadata": {
    "collapsed": true
   },
   "outputs": [],
   "source": [
    "a =a.append(b, ignore_index=False)"
   ]
  },
  {
   "cell_type": "code",
   "execution_count": 98,
   "metadata": {},
   "outputs": [
    {
     "data": {
      "text/html": [
       "<div>\n",
       "<style>\n",
       "    .dataframe thead tr:only-child th {\n",
       "        text-align: right;\n",
       "    }\n",
       "\n",
       "    .dataframe thead th {\n",
       "        text-align: left;\n",
       "    }\n",
       "\n",
       "    .dataframe tbody tr th {\n",
       "        vertical-align: top;\n",
       "    }\n",
       "</style>\n",
       "<table border=\"1\" class=\"dataframe\">\n",
       "  <thead>\n",
       "    <tr style=\"text-align: right;\">\n",
       "      <th></th>\n",
       "      <th>act_fn_name</th>\n",
       "      <th>cuda</th>\n",
       "      <th>learning_rate</th>\n",
       "      <th>num_epochs</th>\n",
       "      <th>num_workers</th>\n",
       "      <th>save_summary_steps</th>\n",
       "      <th>test_batch_size</th>\n",
       "      <th>train_batch_size</th>\n",
       "      <th>wide_of_layers</th>\n",
       "    </tr>\n",
       "  </thead>\n",
       "  <tbody>\n",
       "    <tr>\n",
       "      <th>0</th>\n",
       "      <td>tanh</td>\n",
       "      <td>False</td>\n",
       "      <td>0.0001</td>\n",
       "      <td>100</td>\n",
       "      <td>4</td>\n",
       "      <td>100</td>\n",
       "      <td>64</td>\n",
       "      <td>64</td>\n",
       "      <td>784-30-10</td>\n",
       "    </tr>\n",
       "    <tr>\n",
       "      <th>1</th>\n",
       "      <td>tanh</td>\n",
       "      <td>False</td>\n",
       "      <td>0.0001</td>\n",
       "      <td>100</td>\n",
       "      <td>4</td>\n",
       "      <td>100</td>\n",
       "      <td>64</td>\n",
       "      <td>64</td>\n",
       "      <td>784-30-10</td>\n",
       "    </tr>\n",
       "    <tr>\n",
       "      <th>0</th>\n",
       "      <td>tanh</td>\n",
       "      <td>False</td>\n",
       "      <td>0.0001</td>\n",
       "      <td>100</td>\n",
       "      <td>4</td>\n",
       "      <td>100</td>\n",
       "      <td>64</td>\n",
       "      <td>64</td>\n",
       "      <td>784-30-10</td>\n",
       "    </tr>\n",
       "  </tbody>\n",
       "</table>\n",
       "</div>"
      ],
      "text/plain": [
       "  act_fn_name   cuda  learning_rate  num_epochs  num_workers  \\\n",
       "0        tanh  False         0.0001         100            4   \n",
       "1        tanh  False         0.0001         100            4   \n",
       "0        tanh  False         0.0001         100            4   \n",
       "\n",
       "   save_summary_steps  test_batch_size  train_batch_size wide_of_layers  \n",
       "0                 100               64                64      784-30-10  \n",
       "1                 100               64                64      784-30-10  \n",
       "0                 100               64                64      784-30-10  "
      ]
     },
     "execution_count": 98,
     "metadata": {},
     "output_type": "execute_result"
    }
   ],
   "source": [
    "a"
   ]
  },
  {
   "cell_type": "code",
   "execution_count": 101,
   "metadata": {
    "collapsed": true
   },
   "outputs": [],
   "source": [
    "params.dict['layer0.bias'] = 1"
   ]
  },
  {
   "cell_type": "code",
   "execution_count": 107,
   "metadata": {
    "collapsed": true
   },
   "outputs": [],
   "source": [
    "import copy"
   ]
  },
  {
   "cell_type": "code",
   "execution_count": 111,
   "metadata": {
    "collapsed": true
   },
   "outputs": [],
   "source": [
    "a = copy.deepcopy(params)"
   ]
  },
  {
   "cell_type": "code",
   "execution_count": 6,
   "metadata": {},
   "outputs": [],
   "source": [
    "import models"
   ]
  },
  {
   "cell_type": "code",
   "execution_count": 2,
   "metadata": {},
   "outputs": [
    {
     "data": {
      "text/plain": [
       "type"
      ]
     },
     "execution_count": 2,
     "metadata": {},
     "output_type": "execute_result"
    }
   ],
   "source": [
    "type(models.LinearContainer)"
   ]
  },
  {
   "cell_type": "code",
   "execution_count": 4,
   "metadata": {},
   "outputs": [],
   "source": [
    "import models.functional as F2"
   ]
  },
  {
   "cell_type": "code",
   "execution_count": null,
   "metadata": {
    "collapsed": true
   },
   "outputs": [],
   "source": [
    "F2.accuracy_fn"
   ]
  }
 ],
 "metadata": {
  "kernelspec": {
   "display_name": "Python 3",
   "language": "python",
   "name": "python3"
  },
  "language_info": {
   "codemirror_mode": {
    "name": "ipython",
    "version": 3
   },
   "file_extension": ".py",
   "mimetype": "text/x-python",
   "name": "python",
   "nbconvert_exporter": "python",
   "pygments_lexer": "ipython3",
   "version": "3.6.4"
  }
 },
 "nbformat": 4,
 "nbformat_minor": 2
}

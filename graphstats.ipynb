{
 "cells": [
  {
   "cell_type": "code",
   "execution_count": 1,
   "metadata": {},
   "outputs": [],
   "source": [
    "#export\n",
    "from .imports import *\n",
    "from .core import *\n",
    "from .graph import *"
   ]
  },
  {
   "cell_type": "code",
   "execution_count": 231,
   "metadata": {},
   "outputs": [],
   "source": [
    "np.set_printoptions(threshold=sys.maxsize)"
   ]
  },
  {
   "cell_type": "code",
   "execution_count": 196,
   "metadata": {},
   "outputs": [],
   "source": [
    "#export\n",
    "def complete_dag(n:int):\n",
    "    \"\"\"\n",
    "    Generate a complete directed acyclic graph, which corresponds to architecture of ResNet.\n",
    "    \"\"\"\n",
    "    G = nx.DiGraph()\n",
    "    nodes = list(range(n))\n",
    "    for id in nodes:\n",
    "        for succ in range(id+1, n):\n",
    "            G.add_edge(id, succ)    \n",
    "    return G"
   ]
  },
  {
   "cell_type": "code",
   "execution_count": 472,
   "metadata": {},
   "outputs": [],
   "source": [
    "#export\n",
    "def dual_dag(n:int, d:int=2):\n",
    "    \"\"\"\n",
    "    Generate a DAG, which corresponds to architecture of ResNetX when t=2.\n",
    "    \"\"\"\n",
    "    G = nx.DiGraph()\n",
    "    nodes = list(range(n))\n",
    "    for id in nodes[:-1]: \n",
    "        G.add_edge(id, id+1) # the backbone chain\n",
    "        G.add_edge(0, id+1)  # the input node (0) link to all other nodes\n",
    "        dest = id + 1 + d\n",
    "        while dest < n:\n",
    "            G.add_edge(id, dest)\n",
    "            dest += d\n",
    "\n",
    "    return G"
   ]
  },
  {
   "cell_type": "code",
   "execution_count": 473,
   "metadata": {},
   "outputs": [],
   "source": [
    "#export\n",
    "def triple_dag(n:int):\n",
    "    \"\"\"\n",
    "    Generate a DAG, which corresponds to architecture of ResNetX when t=3.\n",
    "    \"\"\"\n",
    "    G = nx.DiGraph()\n",
    "    nodes = list(range(n))\n",
    "    for id in nodes[:-1]:  \n",
    "        G.add_edge(id, id+1)  # the backbone chain\n",
    "        G.add_edge(0, id+1)  # the input node (0) link to all other nodes\n",
    "        if id % 4 == 0 or id % 4 == 2:\n",
    "            dest = id + 1 + 4\n",
    "            while dest < n:\n",
    "                G.add_edge(id, dest)\n",
    "                dest += 4\n",
    "        elif id % 4 == 1 or id % 4 == 3:\n",
    "            dest = id + 1 + 2\n",
    "            while dest < n:\n",
    "                G.add_edge(id, dest)\n",
    "                dest += 2\n",
    "\n",
    "    return G"
   ]
  },
  {
   "cell_type": "code",
   "execution_count": 497,
   "metadata": {},
   "outputs": [],
   "source": [
    "#export\n",
    "def quad_dag(n:int):\n",
    "    \"\"\"\n",
    "    Generate a quad DAG.\n",
    "    \"\"\"\n",
    "    G = nx.DiGraph()\n",
    "    nodes = list(range(n))\n",
    "    for id in nodes[:-1]:  \n",
    "        G.add_edge(id, id+1)  # the backbone chain\n",
    "        G.add_edge(0, id+1)  # the input node (0) link to all other nodes\n",
    "        if id % 6 == 0 or id % 6 == 3:\n",
    "            dest = id + 1 + 6\n",
    "            while dest < n:\n",
    "                G.add_edge(id, dest)\n",
    "                dest += 6\n",
    "        elif id % 6 == 1 or id % 6 == 5:\n",
    "            odd_even = 0\n",
    "            dest = id + 1 + 2\n",
    "            while dest < n:\n",
    "                G.add_edge(id, dest)\n",
    "                odd_even += 1\n",
    "                if odd_even % 2 == 1:\n",
    "                    dest += 4\n",
    "                elif odd_even % 2 == 0:\n",
    "                    dest += 2\n",
    "        elif id % 6 == 2 or id % 6 == 4:\n",
    "            odd_even = 0\n",
    "            dest = id + 1 + 4\n",
    "            while dest < n:\n",
    "                G.add_edge(id, dest)\n",
    "                odd_even += 1\n",
    "                if odd_even % 2 == 1:\n",
    "                    dest += 2\n",
    "                elif odd_even % 2 == 0:\n",
    "                    dest += 4\n",
    "\n",
    "    return G"
   ]
  },
  {
   "cell_type": "code",
   "execution_count": 498,
   "metadata": {
    "scrolled": true
   },
   "outputs": [],
   "source": [
    "#export\n",
    "def incoherent(G):\n",
    "    mat = nx.to_numpy_matrix(G, nodelist=sorted(G.nodes()))\n",
    "\n",
    "    in_degree = np.array([item[1] for item in sorted(G.in_degree())])\n",
    "    in_degree[0] = 1\n",
    "    Gamma = np.diag(in_degree) - mat\n",
    "    levels = in_degree @ np.linalg.inv(Gamma)\n",
    "\n",
    "    levels = np.array(levels).squeeze()\n",
    "\n",
    "    temp = np.multiply(np.subtract.outer(levels, levels.T).T, mat)\n",
    "\n",
    "    temp2 = temp[temp != 0]\n",
    "\n",
    "    avg = np.mean(temp2)\n",
    "\n",
    "    std1 = np.sqrt(np.mean(np.array(temp2).squeeze() ** 2) - 1)\n",
    "\n",
    "    std2 = np.std(temp2)\n",
    "    return avg, std1, std2"
   ]
  },
  {
   "cell_type": "code",
   "execution_count": 499,
   "metadata": {},
   "outputs": [
    {
     "data": {
      "text/plain": [
       "((1.0, 0.9124149792463323, 0.9124149792463325),\n",
       " (1.0, 0.8950274892513621, 0.8950274892513621),\n",
       " (0.9999999999999999, 0.8904586637336326, 0.8904586637336329),\n",
       " (1.0, 0.8523812059757445, 0.8523812059757446),\n",
       " (1.0, 0.925688791771369, 0.9256887917713688))"
      ]
     },
     "execution_count": 499,
     "metadata": {},
     "output_type": "execute_result"
    }
   ],
   "source": [
    "n = 20\n",
    "incoherent(quad_dag(n)), incoherent(triple_dag(n)), incoherent(dual_dag(n)), incoherent(complete_dag(n)), incoherent(dual_dag(n,4))"
   ]
  },
  {
   "cell_type": "code",
   "execution_count": 492,
   "metadata": {
    "scrolled": true
   },
   "outputs": [
    {
     "data": {
      "text/plain": [
       "(1.0, 0.9396186967500834, 0.9396186967500834)"
      ]
     },
     "execution_count": 492,
     "metadata": {},
     "output_type": "execute_result"
    }
   ],
   "source": [
    "incoherent(dual_dag(n, d=18))"
   ]
  },
  {
   "cell_type": "code",
   "execution_count": 495,
   "metadata": {},
   "outputs": [
    {
     "data": {
      "text/plain": [
       "OrderedDict([(1, 1),\n",
       "             (2, 5),\n",
       "             (3, 15),\n",
       "             (4, 20),\n",
       "             (5, 35),\n",
       "             (6, 56),\n",
       "             (7, 84),\n",
       "             (8, 36),\n",
       "             (9, 45),\n",
       "             (10, 55),\n",
       "             (11, 66),\n",
       "             (12, 12),\n",
       "             (13, 13),\n",
       "             (14, 14),\n",
       "             (15, 15),\n",
       "             (16, 1),\n",
       "             (17, 1),\n",
       "             (18, 1),\n",
       "             (19, 1)])"
      ]
     },
     "execution_count": 495,
     "metadata": {},
     "output_type": "execute_result"
    }
   ],
   "source": [
    "G = dual_dag(20, d=4)\n",
    "dual_paths = paths_DAG(G)\n",
    "dual_paths"
   ]
  },
  {
   "cell_type": "code",
   "execution_count": 496,
   "metadata": {},
   "outputs": [
    {
     "data": {
      "text/plain": [
       "OrderedDict([(1, 1),\n",
       "             (2, 6),\n",
       "             (3, 15),\n",
       "             (4, 22),\n",
       "             (5, 51),\n",
       "             (6, 57),\n",
       "             (7, 94),\n",
       "             (8, 64),\n",
       "             (9, 97),\n",
       "             (10, 55),\n",
       "             (11, 80),\n",
       "             (12, 35),\n",
       "             (13, 45),\n",
       "             (14, 14),\n",
       "             (15, 18),\n",
       "             (16, 5),\n",
       "             (17, 6),\n",
       "             (18, 1),\n",
       "             (19, 1)])"
      ]
     },
     "execution_count": 496,
     "metadata": {},
     "output_type": "execute_result"
    }
   ],
   "source": [
    "G = quad_dag(20)\n",
    "dual_paths = paths_DAG(G)\n",
    "dual_paths"
   ]
  },
  {
   "cell_type": "markdown",
   "metadata": {},
   "source": [
    "### Export"
   ]
  },
  {
   "cell_type": "code",
   "execution_count": 503,
   "metadata": {},
   "outputs": [
    {
     "name": "stdout",
     "output_type": "stream",
     "text": [
      "Converted graphstats.ipynb to zero/graphstats.py\r\n"
     ]
    }
   ],
   "source": [
    "!python notebook2script.py graphstats.ipynb"
   ]
  },
  {
   "cell_type": "markdown",
   "metadata": {
    "heading_collapsed": true
   },
   "source": [
    "### Misc"
   ]
  },
  {
   "cell_type": "code",
   "execution_count": 158,
   "metadata": {
    "hidden": true
   },
   "outputs": [],
   "source": [
    "def hole_dag(n:int, d:int):\n",
    "    \"\"\"\n",
    "    Generate a hole DAG.\n",
    "    \"\"\"\n",
    "    G = nx.DiGraph()\n",
    "    nodes = list(range(n))\n",
    "    for id in nodes[:-1]:  # add the chain\n",
    "        G.add_edge(id, id+1)\n",
    "        #G.add_edge(0, id+1)\n",
    "        G.add_edge(id, n-1)\n",
    "    for i in range(d):\n",
    "        for j in range(i+1, n):\n",
    "            G.add_edge(i,j)\n",
    "            #G.add_edge(n-1-j,n-1-i)\n",
    "\n",
    "    return G"
   ]
  },
  {
   "cell_type": "code",
   "execution_count": 446,
   "metadata": {
    "hidden": true
   },
   "outputs": [],
   "source": [
    "G = dual_dag(20,3)\n",
    "mat = nx.to_numpy_matrix(G, nodelist=sorted(G.nodes()))"
   ]
  },
  {
   "cell_type": "code",
   "execution_count": 415,
   "metadata": {
    "hidden": true
   },
   "outputs": [
    {
     "data": {
      "text/plain": [
       "(odict_values([0, 0, 6]), 6)"
      ]
     },
     "execution_count": 415,
     "metadata": {},
     "output_type": "execute_result"
    }
   ],
   "source": [
    "paths_DAG(G).values(), sum(paths_DAG(G).values())"
   ]
  },
  {
   "cell_type": "code",
   "execution_count": 214,
   "metadata": {
    "hidden": true
   },
   "outputs": [],
   "source": [
    "levels = [1] #initialize\n",
    "for i in range(1,9):\n",
    "    ki = i\n",
    "    si = 1 + sum(levels) / ki\n",
    "    levels.append(si)"
   ]
  },
  {
   "cell_type": "markdown",
   "metadata": {},
   "source": [
    "### Analyze paths from the unique input node to the unique output node\n",
    "The distribution of numbers of all paths of different lengths has significant effect on performance.\n",
    "The effective path, which has been defined as ...\n",
    "A larger distribution interval of path lengths"
   ]
  }
 ],
 "metadata": {
  "kernelspec": {
   "display_name": "Python 3",
   "language": "python",
   "name": "python3"
  },
  "language_info": {
   "codemirror_mode": {
    "name": "ipython",
    "version": 3
   },
   "file_extension": ".py",
   "mimetype": "text/x-python",
   "name": "python",
   "nbconvert_exporter": "python",
   "pygments_lexer": "ipython3",
   "version": "3.7.4"
  }
 },
 "nbformat": 4,
 "nbformat_minor": 2
}

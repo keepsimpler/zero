{
 "cells": [
  {
   "cell_type": "code",
   "execution_count": 12,
   "metadata": {},
   "outputs": [],
   "source": [
    "from zero.imports import *\n",
    "from zero.core import *"
   ]
  },
  {
   "cell_type": "markdown",
   "metadata": {},
   "source": [
    "### generate random Directed Acyclic Graphs (DAG)\n",
    " Several generating algorithms:\n",
    " 1. Niche model in food webs\n",
    " 2. Trophic coherent in food webs\n",
    " "
   ]
  },
  {
   "cell_type": "markdown",
   "metadata": {},
   "source": [
    "The niche model uses two fundamental parameters, connectance and number of species, and relies on a one-dimensional niche space or hierarchy. \n",
    "Species are given a random niche value $n_i ∼ Uniform (0,1)$ in the hierarchy.\n",
    "Diets are assigned to each species independently by generating a center and a range as follows. \n",
    "Firstly, the feeding range is given by $r_i = n_i x_i$ where $x_i$ is a random number drawn from a Beta distribution, with equation $x_i ∼ Beta (\\alpha=1,\\beta)$. The distribution is chosen to obtain, on average, the desired connectance. \n",
    "Secondly, the centers of the feeding ranges are chosen randomly from species further down in the hierarchy, with equation $c_i ∼ Uniform (r_i/2,n_i)$. Once a feeding range is established for a given species, all species in that range become its prey. "
   ]
  },
  {
   "cell_type": "code",
   "execution_count": 71,
   "metadata": {},
   "outputs": [],
   "source": [
    "#export\n",
    "def niche(s:int, c:int, flip_diag:bool=True):\n",
    "    \"\"\"Niche Model for Food Web\n",
    "    Args:\n",
    "    - s: number of species in the community\n",
    "    - c: the connectance, or fraction of realized links in the food web\n",
    "    \n",
    "    Return a numpy matrix for a niche model food web.\n",
    "    a weakly connected DAG (Directed Acyclic Graph)\n",
    "    \"\"\"\n",
    "    weakly_connected = False\n",
    "    while not weakly_connected:\n",
    "        b = 1 / (2 * c) - 1\n",
    "        ni = sorted(np.random.uniform(size = s))\n",
    "        ri = np.random.beta(a = 1, b = b, size = s) * ni\n",
    "        ci = np.random.uniform(size = s, low = ri / 2, high = np.minimum(ni, 1 - ri / 2))\n",
    "        A = np.zeros((s,s))\n",
    "        for i in range(s):\n",
    "            for j in range(i+1, s): # 1\n",
    "                if ni[i] > ci[j] - .5 * ri[j] and ni[i] < ci[j] + .5 * ri[j]:\n",
    "                    A[i,j] = 1\n",
    "        if flip_diag:\n",
    "            A = np.flip(np.rot90(A), axis=1) # rotate 90 degree anti-clockly, then flip along column\n",
    "        G=nx.from_numpy_matrix(A, create_using=nx.DiGraph())\n",
    "        weakly_connected = nx.is_weakly_connected(G)\n",
    "    G.graph['s'] = s\n",
    "    G.graph['c'] = c\n",
    "    return A, G    "
   ]
  },
  {
   "cell_type": "code",
   "execution_count": 72,
   "metadata": {},
   "outputs": [
    {
     "data": {
      "text/plain": [
       "<matplotlib.lines.Line2D at 0x7eff43edc990>"
      ]
     },
     "execution_count": 72,
     "metadata": {},
     "output_type": "execute_result"
    },
    {
     "data": {
      "image/png": "[encoded data removed]",
      "text/plain": [
       "<Figure size 432x288 with 1 Axes>"
      ]
     },
     "metadata": {
      "needs_background": "light"
     },
     "output_type": "display_data"
    }
   ],
   "source": [
    "A, G = niche(20, 0.1, flip_diag=True)\n",
    "plt.spy(A,markersize=2)"
   ]
  },
  {
   "cell_type": "markdown",
   "metadata": {},
   "source": [
    "### Add unique input node and output node for DAG"
   ]
  },
  {
   "cell_type": "code",
   "execution_count": 73,
   "metadata": {},
   "outputs": [],
   "source": [
    "#export\n",
    "\n",
    "\"Add unique input node and output node for DAG\"\n",
    "def after_DAG(G):\n",
    "    n = G.graph['s'] # number of nodes\n",
    "    \n",
    "    # find all input nodes and output nodes\n",
    "    in_nodes = [v for v, d in G.in_degree() if d==0]\n",
    "    out_nodes = [v for v, d in G.out_degree() if d==0]\n",
    "    # number of input nodes, number of output nodes, length of longest path\n",
    "    len(in_nodes), len(out_nodes), nx.dag.dag_longest_path_length(G)\n",
    "\n",
    "    # add a node with id: -1 as the unique input node\n",
    "    in_edges = [(-1,i) for i in in_nodes] \n",
    "    G.add_edges_from(in_edges)\n",
    "    # add a node with id: n as the unique output node\n",
    "    out_edges = [(i, n) for i in out_nodes] \n",
    "    G.add_edges_from(out_edges)\n",
    "    \n",
    "    return G"
   ]
  },
  {
   "cell_type": "code",
   "execution_count": 74,
   "metadata": {},
   "outputs": [],
   "source": [
    "G = after_DAG(G)"
   ]
  },
  {
   "cell_type": "code",
   "execution_count": 75,
   "metadata": {},
   "outputs": [
    {
     "name": "stdout",
     "output_type": "stream",
     "text": [
      "0,1,2,3,4,5,6,7,8,9,10,11,12,13,14,15,16,17,18,19,-1,20,"
     ]
    }
   ],
   "source": [
    "for id in G.nodes():\n",
    "    print(id, end=',')"
   ]
  },
  {
   "cell_type": "markdown",
   "metadata": {},
   "source": [
    "### Neural networks constructed based on complex networks"
   ]
  },
  {
   "cell_type": "code",
   "execution_count": 76,
   "metadata": {},
   "outputs": [],
   "source": [
    "#export\n",
    "class NodeOP(nn.Module):\n",
    "    \"\"\"\n",
    "    The Operation of every inner node in the network.\n",
    "    \n",
    "    Parameters:\n",
    "    -----------\n",
    "    Unit : the operation at the node\n",
    "    kwargs : arguments to Unit\n",
    "    \"\"\"\n",
    "    def __init__(self, ni:int, no:int, nh:int, Unit:nn.Module, **kwargs):\n",
    "        super(NodeOP, self).__init__()\n",
    "        self.unit = Unit(ni, no, nh, **kwargs)\n",
    "            \n",
    "    def forward(self, *inputs):\n",
    "        sum_inputs = sum(inputs)        \n",
    "        out = self.unit(sum_inputs)\n",
    "        return out\n",
    "    "
   ]
  },
  {
   "cell_type": "code",
   "execution_count": 77,
   "metadata": {},
   "outputs": [],
   "source": [
    "#export\n",
    "class NetworkOP(nn.Module):\n",
    "    \"\"\"\n",
    "    The operations along a DAG network.\n",
    "    \n",
    "    Parameters:\n",
    "    -----------\n",
    "    G   :  the `NetworkX` 'DiGraph' object, represent a DAG.\n",
    "    ni  :  number of input channels of the network\n",
    "    no  :  number of output channel of the network\n",
    "    Unit : operation at every inner node\n",
    "    stride : if downsample\n",
    "    kwargs : arguments to Unit\n",
    "    \n",
    "    \"\"\"\n",
    "    def __init__(self, G:nx.DiGraph, ni:int, no:int, Unit:nn.Module, stride:int=1, **kwargs):\n",
    "        super(NetworkOP, self).__init__()\n",
    "        self.G = G\n",
    "        self.n = G.graph['s'] # number of nodes\n",
    "        self.nodeop = nn.ModuleList()\n",
    "        for id in G.nodes(): # for each node\n",
    "            if id == -1:  # if is the unique input node, do nothing\n",
    "                continue\n",
    "            elif id == self.n:  # if is the unique output node\n",
    "                # then, concat its predecessors\n",
    "                n_preds = len([*G.predecessors(id)])\n",
    "                self.nodeop += [IdentityMapping(n_preds * ni, no, stride=stride)]\n",
    "            else:  # if is the inner node\n",
    "                self.nodeop += [NodeOP(ni, ni, ni, Unit, **kwargs)]\n",
    "            \n",
    "    def forward(self, x):\n",
    "        results = {}\n",
    "        results[-1] = x  # input data is the result of the unique input node\n",
    "        for id in self.G.nodes():\n",
    "            if id == -1:  # \n",
    "                continue\n",
    "            inputs = [results[pred]  for pred in self.G.predecessors(id)]\n",
    "            if id == self.n:\n",
    "                cat_inputs = torch.cat(inputs, dim=1)\n",
    "                return self.nodeop[id](cat_inputs)\n",
    "            else:\n",
    "                results[id] = self.nodeop[id](*inputs)\n",
    "\n",
    "            # 删除前驱结点result中，不再需要的result\n",
    "            for pred in self.G.predecessors(id):  # 获得节点的所有前驱结点\n",
    "                succs = list(self.G.successors(pred))  # 获得每个前驱结点的所有后继节点\n",
    "                # 如果排名最后的后继节点是当前节点，说明该前驱结点的result不再被后续的节点需要，可以删除\n",
    "                if max(succs) == id:  \n",
    "                    del results[pred]\n",
    "        \n"
   ]
  },
  {
   "cell_type": "code",
   "execution_count": 94,
   "metadata": {},
   "outputs": [],
   "source": [
    "#export\n",
    "class ComplexNet(nn.Sequential):\n",
    "    \"\"\"\n",
    "    Neural Network based on complex network\n",
    "    \n",
    "    Parameters:\n",
    "    -----------\n",
    "    Gs  :  a list of `NetworkX DiGraph` objects\n",
    "    ns  :  number of channels of all stages\n",
    "    Unit : \n",
    "    c_out : number of output channels\n",
    "    kwargs : additional args to Unit class\n",
    "    \"\"\"\n",
    "    def __init__(self, Gs:list, ns:list, Unit:nn.Module, c_out:int=10, **kwargs):\n",
    "        super(ComplexNet, self).__init__()\n",
    "        stem = conv_bn(3, ns[0])\n",
    "        network_ops = []\n",
    "        for i in range(len(ns)-2):\n",
    "            network_ops += [NetworkOP(Gs[i], ns[i], ns[i+1], Unit, stride=2, **kwargs)]\n",
    "        network_ops += [NetworkOP(Gs[-1], ns[-2], ns[-1], Unit, stride=1, **kwargs)]\n",
    "        \n",
    "        classifier = Classifier(ns[-1], c_out)\n",
    "        super().__init__(\n",
    "            stem,\n",
    "            *network_ops,\n",
    "            classifier\n",
    "        )\n",
    "        init_cnn(self)\n",
    "\n",
    "def complexnet_50():\n",
    "    species = [50,50,50,50]\n",
    "    connectance = [0.05]*4\n",
    "    Gs = [after_DAG(niche(s, c)[1]) for s,c in zip(species, connectance)]\n",
    "    ns = [32,32,32,32,32]\n",
    "    model = ComplexNet(Gs, ns, xception)\n",
    "    return model"
   ]
  },
  {
   "cell_type": "code",
   "execution_count": 95,
   "metadata": {
    "scrolled": true
   },
   "outputs": [],
   "source": [
    "model = complexnet_32()"
   ]
  },
  {
   "cell_type": "code",
   "execution_count": 97,
   "metadata": {},
   "outputs": [
    {
     "data": {
      "text/plain": [
       "tensor(855594)"
      ]
     },
     "execution_count": 97,
     "metadata": {},
     "output_type": "execute_result"
    }
   ],
   "source": [
    "num_params(model)"
   ]
  },
  {
   "cell_type": "markdown",
   "metadata": {},
   "source": [
    "### Export"
   ]
  },
  {
   "cell_type": "code",
   "execution_count": 98,
   "metadata": {},
   "outputs": [
    {
     "name": "stdout",
     "output_type": "stream",
     "text": [
      "Converted complexnet.ipynb to zero/complexnet.py\r\n"
     ]
    }
   ],
   "source": [
    "!python notebook2script.py complexnet.ipynb"
   ]
  },
  {
   "cell_type": "code",
   "execution_count": null,
   "metadata": {},
   "outputs": [],
   "source": []
  }
 ],
 "metadata": {
  "kernelspec": {
   "display_name": "Python 3",
   "language": "python",
   "name": "python3"
  },
  "language_info": {
   "codemirror_mode": {
    "name": "ipython",
    "version": 3
   },
   "file_extension": ".py",
   "mimetype": "text/x-python",
   "name": "python",
   "nbconvert_exporter": "python",
   "pygments_lexer": "ipython3",
   "version": "3.7.4"
  }
 },
 "nbformat": 4,
 "nbformat_minor": 2
}
